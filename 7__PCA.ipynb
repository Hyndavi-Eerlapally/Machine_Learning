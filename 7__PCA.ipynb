{
 "cells": [
  {
   "cell_type": "code",
   "execution_count": 1,
   "metadata": {},
   "outputs": [],
   "source": [
    "import numpy as np\n",
    "import pandas as pd\n",
    "import matplotlib.pyplot as plt\n",
    "import seaborn as sns\n",
    "import scipy.stats as stats\n",
    "from warnings import filterwarnings\n",
    "filterwarnings('ignore')"
   ]
  },
  {
   "cell_type": "code",
   "execution_count": 2,
   "metadata": {},
   "outputs": [],
   "source": [
    "from sklearn import metrics\n",
    "from sklearn.linear_model import LogisticRegression\n",
    "from sklearn.model_selection import train_test_split \n",
    "from sklearn.preprocessing import StandardScaler\n",
    "from sklearn.model_selection import cross_val_score\n",
    "from sklearn.pipeline import Pipeline\n",
    "from sklearn.ensemble import GradientBoostingClassifier\n",
    "from sklearn.metrics import confusion_matrix,classification_report\n",
    "from sklearn.metrics import precision_score,recall_score,f1_score,cohen_kappa_score\n",
    "import statsmodels.api as sm\n",
    "from sklearn.metrics import roc_curve, auc\n",
    "from sklearn.preprocessing import LabelEncoder\n",
    "from sklearn.impute import SimpleImputer\n",
    "from sklearn.preprocessing import PowerTransformer\n",
    "from sklearn.model_selection import cross_val_score\n"
   ]
  },
  {
   "cell_type": "code",
   "execution_count": 3,
   "metadata": {},
   "outputs": [
    {
     "data": {
      "text/html": [
       "<div>\n",
       "<style scoped>\n",
       "    .dataframe tbody tr th:only-of-type {\n",
       "        vertical-align: middle;\n",
       "    }\n",
       "\n",
       "    .dataframe tbody tr th {\n",
       "        vertical-align: top;\n",
       "    }\n",
       "\n",
       "    .dataframe thead th {\n",
       "        text-align: right;\n",
       "    }\n",
       "</style>\n",
       "<table border=\"1\" class=\"dataframe\">\n",
       "  <thead>\n",
       "    <tr style=\"text-align: right;\">\n",
       "      <th></th>\n",
       "      <th>Unnamed: 0</th>\n",
       "      <th>Unnamed: 0.1</th>\n",
       "      <th>DISBURSED_AMOUNT</th>\n",
       "      <th>ASSET_COST</th>\n",
       "      <th>LTV</th>\n",
       "      <th>PERFORM_CNS_SCORE</th>\n",
       "      <th>PRI_CURRENT_BALANCE</th>\n",
       "      <th>PRI_SANCTIONED_AMOUNT</th>\n",
       "      <th>PRI_DISBURSED_AMOUNT</th>\n",
       "      <th>SEC_CURRENT_BALANCE</th>\n",
       "      <th>...</th>\n",
       "      <th>NO_OF_INQUIRIES</th>\n",
       "      <th>PERFORM_CNS_SCORE_DESCRIPTION</th>\n",
       "      <th>EMPLOYMENT_TYPE</th>\n",
       "      <th>BRANCH_ID</th>\n",
       "      <th>SUPPLIER_ID</th>\n",
       "      <th>MANUFACTURER_ID</th>\n",
       "      <th>CURRENT_PINCODE_ID</th>\n",
       "      <th>STATE_ID</th>\n",
       "      <th>EMPLOYEE_CODE_ID</th>\n",
       "      <th>LOAN_DEFAULT</th>\n",
       "    </tr>\n",
       "  </thead>\n",
       "  <tbody>\n",
       "    <tr>\n",
       "      <th>0</th>\n",
       "      <td>0</td>\n",
       "      <td>0.000000</td>\n",
       "      <td>0.038125</td>\n",
       "      <td>0.013442</td>\n",
       "      <td>0.935860</td>\n",
       "      <td>0.000000</td>\n",
       "      <td>0.064710</td>\n",
       "      <td>0.00000</td>\n",
       "      <td>0.00000</td>\n",
       "      <td>0.015698</td>\n",
       "      <td>...</td>\n",
       "      <td>0.866213</td>\n",
       "      <td>0.231313</td>\n",
       "      <td>0.203458</td>\n",
       "      <td>0.048586</td>\n",
       "      <td>0.000236</td>\n",
       "      <td>0.24287</td>\n",
       "      <td>0.000077</td>\n",
       "      <td>0.143703</td>\n",
       "      <td>0.000232</td>\n",
       "      <td>0</td>\n",
       "    </tr>\n",
       "    <tr>\n",
       "      <th>1</th>\n",
       "      <td>1</td>\n",
       "      <td>0.000004</td>\n",
       "      <td>0.034612</td>\n",
       "      <td>0.017934</td>\n",
       "      <td>0.743792</td>\n",
       "      <td>0.671910</td>\n",
       "      <td>0.064978</td>\n",
       "      <td>0.00005</td>\n",
       "      <td>0.00005</td>\n",
       "      <td>0.015698</td>\n",
       "      <td>...</td>\n",
       "      <td>0.866213</td>\n",
       "      <td>0.272629</td>\n",
       "      <td>0.227657</td>\n",
       "      <td>0.048586</td>\n",
       "      <td>0.000236</td>\n",
       "      <td>0.24287</td>\n",
       "      <td>0.000030</td>\n",
       "      <td>0.143703</td>\n",
       "      <td>0.000232</td>\n",
       "      <td>1</td>\n",
       "    </tr>\n",
       "    <tr>\n",
       "      <th>2</th>\n",
       "      <td>2</td>\n",
       "      <td>0.000009</td>\n",
       "      <td>0.040888</td>\n",
       "      <td>0.015302</td>\n",
       "      <td>0.936801</td>\n",
       "      <td>0.000000</td>\n",
       "      <td>0.064710</td>\n",
       "      <td>0.00000</td>\n",
       "      <td>0.00000</td>\n",
       "      <td>0.015698</td>\n",
       "      <td>...</td>\n",
       "      <td>0.866213</td>\n",
       "      <td>0.231313</td>\n",
       "      <td>0.227657</td>\n",
       "      <td>0.048586</td>\n",
       "      <td>0.000236</td>\n",
       "      <td>0.24287</td>\n",
       "      <td>0.000202</td>\n",
       "      <td>0.143703</td>\n",
       "      <td>0.000232</td>\n",
       "      <td>0</td>\n",
       "    </tr>\n",
       "    <tr>\n",
       "      <th>3</th>\n",
       "      <td>3</td>\n",
       "      <td>0.000013</td>\n",
       "      <td>0.045222</td>\n",
       "      <td>0.018287</td>\n",
       "      <td>0.923267</td>\n",
       "      <td>0.342697</td>\n",
       "      <td>0.064710</td>\n",
       "      <td>0.00000</td>\n",
       "      <td>0.00000</td>\n",
       "      <td>0.015698</td>\n",
       "      <td>...</td>\n",
       "      <td>0.095581</td>\n",
       "      <td>0.280423</td>\n",
       "      <td>0.227657</td>\n",
       "      <td>0.048586</td>\n",
       "      <td>0.000236</td>\n",
       "      <td>0.24287</td>\n",
       "      <td>0.000064</td>\n",
       "      <td>0.143703</td>\n",
       "      <td>0.000232</td>\n",
       "      <td>1</td>\n",
       "    </tr>\n",
       "    <tr>\n",
       "      <th>4</th>\n",
       "      <td>4</td>\n",
       "      <td>0.000017</td>\n",
       "      <td>0.039967</td>\n",
       "      <td>0.014636</td>\n",
       "      <td>0.922208</td>\n",
       "      <td>0.000000</td>\n",
       "      <td>0.064710</td>\n",
       "      <td>0.00000</td>\n",
       "      <td>0.00000</td>\n",
       "      <td>0.015698</td>\n",
       "      <td>...</td>\n",
       "      <td>0.095581</td>\n",
       "      <td>0.231313</td>\n",
       "      <td>0.227657</td>\n",
       "      <td>0.048586</td>\n",
       "      <td>0.000236</td>\n",
       "      <td>0.24287</td>\n",
       "      <td>0.000060</td>\n",
       "      <td>0.143703</td>\n",
       "      <td>0.000232</td>\n",
       "      <td>1</td>\n",
       "    </tr>\n",
       "  </tbody>\n",
       "</table>\n",
       "<p>5 rows × 41 columns</p>\n",
       "</div>"
      ],
      "text/plain": [
       "   Unnamed: 0  Unnamed: 0.1  DISBURSED_AMOUNT  ASSET_COST       LTV  \\\n",
       "0           0      0.000000          0.038125    0.013442  0.935860   \n",
       "1           1      0.000004          0.034612    0.017934  0.743792   \n",
       "2           2      0.000009          0.040888    0.015302  0.936801   \n",
       "3           3      0.000013          0.045222    0.018287  0.923267   \n",
       "4           4      0.000017          0.039967    0.014636  0.922208   \n",
       "\n",
       "   PERFORM_CNS_SCORE  PRI_CURRENT_BALANCE  PRI_SANCTIONED_AMOUNT  \\\n",
       "0           0.000000             0.064710                0.00000   \n",
       "1           0.671910             0.064978                0.00005   \n",
       "2           0.000000             0.064710                0.00000   \n",
       "3           0.342697             0.064710                0.00000   \n",
       "4           0.000000             0.064710                0.00000   \n",
       "\n",
       "   PRI_DISBURSED_AMOUNT  SEC_CURRENT_BALANCE  ...  NO_OF_INQUIRIES  \\\n",
       "0               0.00000             0.015698  ...         0.866213   \n",
       "1               0.00005             0.015698  ...         0.866213   \n",
       "2               0.00000             0.015698  ...         0.866213   \n",
       "3               0.00000             0.015698  ...         0.095581   \n",
       "4               0.00000             0.015698  ...         0.095581   \n",
       "\n",
       "   PERFORM_CNS_SCORE_DESCRIPTION  EMPLOYMENT_TYPE  BRANCH_ID  SUPPLIER_ID  \\\n",
       "0                       0.231313         0.203458   0.048586     0.000236   \n",
       "1                       0.272629         0.227657   0.048586     0.000236   \n",
       "2                       0.231313         0.227657   0.048586     0.000236   \n",
       "3                       0.280423         0.227657   0.048586     0.000236   \n",
       "4                       0.231313         0.227657   0.048586     0.000236   \n",
       "\n",
       "   MANUFACTURER_ID  CURRENT_PINCODE_ID  STATE_ID  EMPLOYEE_CODE_ID  \\\n",
       "0          0.24287            0.000077  0.143703          0.000232   \n",
       "1          0.24287            0.000030  0.143703          0.000232   \n",
       "2          0.24287            0.000202  0.143703          0.000232   \n",
       "3          0.24287            0.000064  0.143703          0.000232   \n",
       "4          0.24287            0.000060  0.143703          0.000232   \n",
       "\n",
       "   LOAN_DEFAULT  \n",
       "0             0  \n",
       "1             1  \n",
       "2             0  \n",
       "3             1  \n",
       "4             1  \n",
       "\n",
       "[5 rows x 41 columns]"
      ]
     },
     "execution_count": 3,
     "metadata": {},
     "output_type": "execute_result"
    }
   ],
   "source": [
    "df = pd.read_csv('finaldata.csv')\n",
    "df.head()"
   ]
  },
  {
   "cell_type": "code",
   "execution_count": 4,
   "metadata": {},
   "outputs": [
    {
     "data": {
      "text/plain": [
       "Index(['Unnamed: 0', 'Unnamed: 0.1', 'DISBURSED_AMOUNT', 'ASSET_COST', 'LTV',\n",
       "       'PERFORM_CNS_SCORE', 'PRI_CURRENT_BALANCE', 'PRI_SANCTIONED_AMOUNT',\n",
       "       'PRI_DISBURSED_AMOUNT', 'SEC_CURRENT_BALANCE', 'SEC_SANCTIONED_AMOUNT',\n",
       "       'SEC_DISBURSED_AMOUNT', 'PRIMARY_INSTAL_AMT', 'SEC_INSTAL_AMT',\n",
       "       'AVERAGE_ACCT_AGE', 'CREDIT_HISTORY_LENGTH', 'AGE', 'MOBILENO_AVL_FLAG',\n",
       "       'AADHAR_FLAG', 'PAN_FLAG', 'VOTERID_FLAG', 'DRIVING_FLAG',\n",
       "       'PASSPORT_FLAG', 'PRI_NO_OF_ACCTS', 'PRI_ACTIVE_ACCTS',\n",
       "       'PRI_OVERDUE_ACCTS', 'SEC_NO_OF_ACCTS', 'SEC_ACTIVE_ACCTS',\n",
       "       'SEC_OVERDUE_ACCTS', 'NEW_ACCTS_IN_LAST_SIX_MONTHS',\n",
       "       'DELINQUENT_ACCTS_IN_LAST_SIX_MONTHS', 'NO_OF_INQUIRIES',\n",
       "       'PERFORM_CNS_SCORE_DESCRIPTION', 'EMPLOYMENT_TYPE', 'BRANCH_ID',\n",
       "       'SUPPLIER_ID', 'MANUFACTURER_ID', 'CURRENT_PINCODE_ID', 'STATE_ID',\n",
       "       'EMPLOYEE_CODE_ID', 'LOAN_DEFAULT'],\n",
       "      dtype='object')"
      ]
     },
     "execution_count": 4,
     "metadata": {},
     "output_type": "execute_result"
    }
   ],
   "source": [
    "df.columns"
   ]
  },
  {
   "cell_type": "code",
   "execution_count": 5,
   "metadata": {},
   "outputs": [],
   "source": [
    "df = df.drop(['Unnamed: 0', 'Unnamed: 0.1'],axis = 1)"
   ]
  },
  {
   "cell_type": "code",
   "execution_count": 6,
   "metadata": {},
   "outputs": [
    {
     "data": {
      "text/plain": [
       "DISBURSED_AMOUNT                       float64\n",
       "ASSET_COST                             float64\n",
       "LTV                                    float64\n",
       "PERFORM_CNS_SCORE                      float64\n",
       "PRI_CURRENT_BALANCE                    float64\n",
       "PRI_SANCTIONED_AMOUNT                  float64\n",
       "PRI_DISBURSED_AMOUNT                   float64\n",
       "SEC_CURRENT_BALANCE                    float64\n",
       "SEC_SANCTIONED_AMOUNT                  float64\n",
       "SEC_DISBURSED_AMOUNT                   float64\n",
       "PRIMARY_INSTAL_AMT                     float64\n",
       "SEC_INSTAL_AMT                         float64\n",
       "AVERAGE_ACCT_AGE                       float64\n",
       "CREDIT_HISTORY_LENGTH                  float64\n",
       "AGE                                    float64\n",
       "MOBILENO_AVL_FLAG                      float64\n",
       "AADHAR_FLAG                            float64\n",
       "PAN_FLAG                               float64\n",
       "VOTERID_FLAG                           float64\n",
       "DRIVING_FLAG                           float64\n",
       "PASSPORT_FLAG                          float64\n",
       "PRI_NO_OF_ACCTS                        float64\n",
       "PRI_ACTIVE_ACCTS                       float64\n",
       "PRI_OVERDUE_ACCTS                      float64\n",
       "SEC_NO_OF_ACCTS                        float64\n",
       "SEC_ACTIVE_ACCTS                       float64\n",
       "SEC_OVERDUE_ACCTS                      float64\n",
       "NEW_ACCTS_IN_LAST_SIX_MONTHS           float64\n",
       "DELINQUENT_ACCTS_IN_LAST_SIX_MONTHS    float64\n",
       "NO_OF_INQUIRIES                        float64\n",
       "PERFORM_CNS_SCORE_DESCRIPTION          float64\n",
       "EMPLOYMENT_TYPE                        float64\n",
       "BRANCH_ID                              float64\n",
       "SUPPLIER_ID                            float64\n",
       "MANUFACTURER_ID                        float64\n",
       "CURRENT_PINCODE_ID                     float64\n",
       "STATE_ID                               float64\n",
       "EMPLOYEE_CODE_ID                       float64\n",
       "LOAN_DEFAULT                             int64\n",
       "dtype: object"
      ]
     },
     "execution_count": 6,
     "metadata": {},
     "output_type": "execute_result"
    }
   ],
   "source": [
    "df.dtypes"
   ]
  },
  {
   "cell_type": "code",
   "execution_count": 34,
   "metadata": {},
   "outputs": [
    {
     "data": {
      "text/plain": [
       "0    182543\n",
       "1     50611\n",
       "Name: LOAN_DEFAULT, dtype: int64"
      ]
     },
     "execution_count": 34,
     "metadata": {},
     "output_type": "execute_result"
    }
   ],
   "source": [
    "df['LOAN_DEFAULT'].value_counts()"
   ]
  },
  {
   "cell_type": "code",
   "execution_count": 7,
   "metadata": {},
   "outputs": [],
   "source": [
    "x=df.drop('LOAN_DEFAULT',axis=1)"
   ]
  },
  {
   "cell_type": "code",
   "execution_count": 8,
   "metadata": {},
   "outputs": [],
   "source": [
    "y = df[['LOAN_DEFAULT']]"
   ]
  },
  {
   "cell_type": "code",
   "execution_count": 9,
   "metadata": {},
   "outputs": [],
   "source": [
    "x_train,x_test,y_train,y_test=train_test_split(x,y,test_size=0.3,random_state=1)"
   ]
  },
  {
   "cell_type": "code",
   "execution_count": 10,
   "metadata": {},
   "outputs": [
    {
     "name": "stdout",
     "output_type": "stream",
     "text": [
      "(163207, 38)\n",
      "(69947, 38)\n",
      "(163207, 1)\n",
      "(69947, 1)\n"
     ]
    }
   ],
   "source": [
    "print(x_train.shape)\n",
    "print(x_test.shape)\n",
    "print(y_train.shape)\n",
    "print(y_test.shape)"
   ]
  },
  {
   "cell_type": "markdown",
   "metadata": {},
   "source": [
    "#### PCA"
   ]
  },
  {
   "cell_type": "code",
   "execution_count": 11,
   "metadata": {},
   "outputs": [
    {
     "data": {
      "text/plain": [
       "array([[ 1.76179276e-04,  1.18885737e-04,  6.74246674e-04,\n",
       "         5.75749814e-05,  1.90421383e-06,  1.98404079e-07,\n",
       "         2.02358577e-07, -2.60941055e-07, -4.27174978e-07,\n",
       "        -4.13541221e-07,  1.84114213e-07, -2.73477626e-07,\n",
       "         2.28482028e-06,  1.08634521e-05, -1.51918915e-04,\n",
       "         0.00000000e+00, -5.15899985e-05, -4.31529883e-05,\n",
       "        -3.87066372e-05, -2.63260803e-06, -5.04899062e-06,\n",
       "        -7.57898264e-05, -1.09478910e-04, -7.30574626e-05,\n",
       "        -7.57898264e-05,  2.56588899e-05,  6.27183394e-06,\n",
       "        -1.15575682e-04, -6.49062863e-05, -1.66966599e-04,\n",
       "         7.79998454e-06, -3.35062464e-06,  1.03021639e-05,\n",
       "        -6.69434324e-07, -2.66021408e-04, -4.55026980e-07,\n",
       "         6.99355743e-05,  1.33633075e-07],\n",
       "       [ 1.18885737e-04,  1.41611143e-04, -4.83257044e-04,\n",
       "        -2.14443960e-04, -4.73250090e-07, -3.33556144e-08,\n",
       "        -3.45436341e-08, -4.81280563e-07, -7.82905995e-07,\n",
       "        -7.67283473e-07, -3.05999946e-07, -2.54648790e-07,\n",
       "        -7.60682090e-06, -1.71244813e-05, -2.70776080e-04,\n",
       "         0.00000000e+00, -2.78052517e-04, -1.28359190e-04,\n",
       "        -2.49590553e-04, -3.50207729e-05, -3.02591206e-06,\n",
       "         1.26346870e-04,  8.89939709e-05,  4.79193648e-05,\n",
       "         1.26346870e-04,  3.29445938e-05,  1.14046074e-05,\n",
       "         9.97226361e-05,  2.35548174e-05,  7.24634044e-05,\n",
       "         1.24122322e-05,  7.52047503e-06, -3.69506297e-06,\n",
       "        -2.65295682e-06, -6.30958127e-04, -1.32173550e-06,\n",
       "         3.14641241e-05,  2.21664755e-07],\n",
       "       [ 6.74246674e-04, -4.83257044e-04,  1.81795435e-02,\n",
       "         4.35694179e-03,  3.28860891e-05,  3.18769718e-06,\n",
       "         3.26278702e-06,  4.51134996e-06,  7.24393759e-06,\n",
       "         7.16672057e-06,  5.85586226e-06,  2.42047404e-07,\n",
       "         1.64783106e-04,  4.41419574e-04,  2.10730132e-03,\n",
       "         0.00000000e+00,  3.59541761e-03,  1.14309589e-03,\n",
       "         3.31650128e-03,  4.66072424e-04, -2.76347253e-05,\n",
       "        -3.20115111e-03, -3.10222905e-03, -1.95938952e-03,\n",
       "        -3.20115111e-03, -2.12377032e-04, -1.09490567e-04,\n",
       "        -3.34855522e-03, -1.40017334e-03, -3.87016308e-03,\n",
       "        -7.12812240e-05, -1.66081006e-04,  1.80654537e-04,\n",
       "         3.24405065e-05,  5.82363656e-03,  1.48773397e-05,\n",
       "         4.36464566e-04, -1.94677253e-06],\n",
       "       [ 5.75749814e-05, -2.14443960e-04,  4.35694179e-03,\n",
       "         1.44549288e-01,  5.13135715e-04,  7.14198428e-05,\n",
       "         7.09205516e-05,  3.55866195e-05,  5.65553631e-05,\n",
       "         5.54286071e-05,  1.60036576e-04,  2.21954741e-05,\n",
       "         7.38913188e-03,  1.09669776e-02,  1.23734278e-02,\n",
       "         0.00000000e+00,  6.43000035e-03, -7.70016353e-04,\n",
       "         6.57565986e-03, -3.93057507e-04, -1.76653663e-04,\n",
       "        -7.11191606e-02, -6.39544488e-02, -1.50644950e-02,\n",
       "        -7.11191606e-02, -3.24174559e-03, -1.08507685e-03,\n",
       "        -4.66056867e-02, -1.76262268e-02, -1.77454871e-02,\n",
       "        -8.97174074e-03, -1.88350913e-04,  2.74591428e-04,\n",
       "         1.37185429e-05,  3.42963377e-03,  2.18958627e-05,\n",
       "         4.71812074e-04, -1.11035301e-05],\n",
       "       [ 1.90421383e-06, -4.73250090e-07,  3.28860891e-05,\n",
       "         5.13135715e-04,  8.33618932e-05,  1.00764911e-05,\n",
       "         1.02096162e-05,  8.22770125e-07,  1.18054607e-06,\n",
       "         1.17544324e-06,  8.21898941e-06,  2.31476161e-07,\n",
       "         5.49358358e-05,  1.38528261e-04,  1.50383373e-04,\n",
       "         0.00000000e+00,  5.99822697e-05,  4.05091233e-06,\n",
       "         7.13658876e-05, -7.11875307e-06, -6.33899468e-06,\n",
       "        -4.10094517e-04, -5.38117945e-04, -4.17657795e-04,\n",
       "        -4.10094517e-04, -2.76233964e-05, -1.18434627e-05,\n",
       "        -4.24043904e-04, -3.88977366e-04, -7.55263930e-05,\n",
       "         1.77247656e-06,  2.27061113e-06,  3.08088878e-06,\n",
       "         8.12006298e-08,  1.90507405e-05,  1.28767281e-07,\n",
       "         6.45910518e-06, -7.59330423e-08]])"
      ]
     },
     "execution_count": 11,
     "metadata": {},
     "output_type": "execute_result"
    }
   ],
   "source": [
    "cov_mat = np.cov(x.T)\n",
    "cov_mat[0:5]"
   ]
  },
  {
   "cell_type": "code",
   "execution_count": 12,
   "metadata": {},
   "outputs": [],
   "source": [
    "eig_val,eig_vec = np.linalg.eig(cov_mat)"
   ]
  },
  {
   "cell_type": "code",
   "execution_count": 13,
   "metadata": {},
   "outputs": [
    {
     "name": "stdout",
     "output_type": "stream",
     "text": [
      "[0.317108365334692, 0.11946077018405549, 0.08346956564305645, 0.07690454210410151, 0.04917205875577741, 0.04719381673134488, 0.036603067647453684, 0.0323142137500647, 0.029275355237337614, 0.02450057002247006, 0.016765489032589623, 0.015322574780009415, 0.013011300029677701, 0.006490422174532836, 0.004165550508643222, 0.003964765715544292, 0.0039017192436696614, 0.002433687541778948, 0.001813647157702949, 0.0005133079132961533, 0.0003322538558461732, 0.0002552890830900525, 0.0002005179197803323, 0.0001314884280099924, 8.500628114687018e-05, 7.754509258541383e-05, 3.311648922301051e-05, 1.360780490995166e-05, 8.533816155317343e-06, 2.6577002133542396e-06, 2.2846038472203634e-06, 1.60635303328666e-06, 1.0120666275608626e-06, 1.0146039572332691e-07, 1.273241066736389e-08, 6.939094027125673e-09, 3.317191859136054e-20, 0.0]\n"
     ]
    }
   ],
   "source": [
    "eig_val = list(eig_val)\n",
    "eig_val.sort(reverse = True)\n",
    "print(eig_val)"
   ]
  },
  {
   "cell_type": "code",
   "execution_count": 14,
   "metadata": {},
   "outputs": [
    {
     "data": {
      "image/png": "[encoded data removed]",
      "text/plain": [
       "<Figure size 864x432 with 1 Axes>"
      ]
     },
     "metadata": {
      "needs_background": "light"
     },
     "output_type": "display_data"
    }
   ],
   "source": [
    "plt.figure(figsize = (12,6))\n",
    "plt.plot(eig_val)\n",
    "plt.show()"
   ]
  },
  {
   "cell_type": "code",
   "execution_count": 15,
   "metadata": {},
   "outputs": [
    {
     "data": {
      "text/plain": [
       "[35.81001503773696,\n",
       " 13.49031575434967,\n",
       " 9.425946230451645,\n",
       " 8.684579501116254,\n",
       " 5.5528404670825475,\n",
       " 5.3294440373843175,\n",
       " 4.133465231985229,\n",
       " 3.6491389279533055,\n",
       " 3.3059705321165826,\n",
       " 2.766769586831191,\n",
       " 1.8932720798405474,\n",
       " 1.7303284721292642,\n",
       " 1.4693237412122349,\n",
       " 0.7329422401896347,\n",
       " 0.4704020538768405,\n",
       " 0.44772808104539913,\n",
       " 0.44060844828666096,\n",
       " 0.27482840881940895,\n",
       " 0.20480926739962685,\n",
       " 0.05796619106759863,\n",
       " 0.037520345960094084,\n",
       " 0.02882896480758568,\n",
       " 0.02264383569664181,\n",
       " 0.01484855998471225,\n",
       " 0.009599482508002105,\n",
       " 0.008756914781026052,\n",
       " 0.00373973728451282,\n",
       " 0.0015366850948307328,\n",
       " 0.0009636960681521451,\n",
       " 0.00030012543032588386,\n",
       " 0.00025799287268213426,\n",
       " 0.00018140021698007387,\n",
       " 0.00011428938846786484,\n",
       " 1.1457592084498668e-05,\n",
       " 1.4378296737259303e-06,\n",
       " 7.836092914085483e-07,\n",
       " 3.745996742575529e-18,\n",
       " 0.0]"
      ]
     },
     "execution_count": 15,
     "metadata": {},
     "output_type": "execute_result"
    }
   ],
   "source": [
    "percent_var=[]\n",
    "for i in eig_val:\n",
    "    variation = (i/sum(eig_val))*100\n",
    "    percent_var.append(variation)\n",
    "\n",
    "percent_var"
   ]
  },
  {
   "cell_type": "code",
   "execution_count": 17,
   "metadata": {},
   "outputs": [
    {
     "data": {
      "text/plain": [
       "array([ 35.81001504,  49.30033079,  58.72627702,  67.41085652,\n",
       "        72.96369699,  78.29314103,  82.42660626,  86.07574519,\n",
       "        89.38171572,  92.14848531,  94.04175739,  95.77208586,\n",
       "        97.2414096 ,  97.97435184,  98.44475389,  98.89248198,\n",
       "        99.33309042,  99.60791883,  99.8127281 ,  99.87069429,\n",
       "        99.90821464,  99.9370436 ,  99.95968744,  99.974536  ,\n",
       "        99.98413548,  99.99289239,  99.99663213,  99.99816882,\n",
       "        99.99913251,  99.99943264,  99.99969063,  99.99987203,\n",
       "        99.99998632,  99.99999778,  99.99999922, 100.        ,\n",
       "       100.        , 100.        ])"
      ]
     },
     "execution_count": 17,
     "metadata": {},
     "output_type": "execute_result"
    }
   ],
   "source": [
    "np.cumsum(percent_var)"
   ]
  },
  {
   "cell_type": "code",
   "execution_count": 18,
   "metadata": {},
   "outputs": [
    {
     "data": {
      "text/plain": [
       "0      35.810015\n",
       "1      49.300331\n",
       "2      58.726277\n",
       "3      67.410857\n",
       "4      72.963697\n",
       "5      78.293141\n",
       "6      82.426606\n",
       "7      86.075745\n",
       "8      89.381716\n",
       "9      92.148485\n",
       "10     94.041757\n",
       "11     95.772086\n",
       "12     97.241410\n",
       "13     97.974352\n",
       "14     98.444754\n",
       "15     98.892482\n",
       "16     99.333090\n",
       "17     99.607919\n",
       "18     99.812728\n",
       "19     99.870694\n",
       "20     99.908215\n",
       "21     99.937044\n",
       "22     99.959687\n",
       "23     99.974536\n",
       "24     99.984135\n",
       "25     99.992892\n",
       "26     99.996632\n",
       "27     99.998169\n",
       "28     99.999133\n",
       "29     99.999433\n",
       "30     99.999691\n",
       "31     99.999872\n",
       "32     99.999986\n",
       "33     99.999998\n",
       "34     99.999999\n",
       "35    100.000000\n",
       "36    100.000000\n",
       "37    100.000000\n",
       "dtype: float64"
      ]
     },
     "execution_count": 18,
     "metadata": {},
     "output_type": "execute_result"
    }
   ],
   "source": [
    "pd.Series(percent_var).cumsum()"
   ]
  },
  {
   "cell_type": "code",
   "execution_count": 19,
   "metadata": {},
   "outputs": [
    {
     "data": {
      "text/plain": [
       "array([[-6.95043856e-04, -5.33933487e-04,  1.06485299e-03,\n",
       "         2.52453432e-03, -5.79615022e-04,  4.50473053e-04,\n",
       "         2.58547035e-03, -1.26277208e-03,  2.28083602e-03,\n",
       "        -7.24970094e-04],\n",
       "       [ 1.24337181e-03, -3.52754616e-03,  1.94971284e-04,\n",
       "         5.86887277e-04,  1.59809029e-03,  2.58724994e-03,\n",
       "         1.21604432e-02, -1.13024778e-02, -1.70628836e-02,\n",
       "         8.72683769e-04],\n",
       "       [-3.07838629e-02,  4.68749695e-02,  1.41070233e-02,\n",
       "         3.04952686e-02, -3.74211713e-02, -2.99827046e-02,\n",
       "        -1.56365637e-01,  1.60998919e-01,  3.02921343e-01,\n",
       "        -2.31777303e-02],\n",
       "       [-6.04047901e-01, -6.51285590e-02, -4.06549301e-01,\n",
       "        -2.79804258e-01, -2.97232438e-01, -2.17307517e-02,\n",
       "         1.79480926e-01,  6.25007554e-02,  9.90357915e-03,\n",
       "        -9.53746718e-03],\n",
       "       [-3.59842681e-03, -4.66604743e-05,  4.14088013e-03,\n",
       "        -1.02758266e-03,  2.78992505e-03,  3.86774485e-04,\n",
       "        -9.67420435e-04,  1.19196493e-03, -8.95520308e-04,\n",
       "         2.48401727e-04],\n",
       "       [-4.84349486e-04, -5.67618811e-06,  5.26943312e-04,\n",
       "        -1.87486580e-04,  3.13661587e-04,  4.72751089e-05,\n",
       "        -1.66788748e-04,  1.49005976e-04, -1.37304420e-04,\n",
       "         3.16824374e-05],\n",
       "       [-4.82973589e-04, -5.79320739e-06,  5.34241927e-04,\n",
       "        -1.86125520e-04,  3.09511502e-04,  4.93798803e-05,\n",
       "        -1.69786482e-04,  1.45376875e-04, -1.36057911e-04,\n",
       "         3.24969589e-05],\n",
       "       [-2.54556350e-04,  7.38045838e-06,  2.82125782e-04,\n",
       "         4.91389653e-05,  4.93286449e-04,  3.88557935e-04,\n",
       "         1.37760958e-04,  1.01953742e-03, -1.74263534e-04,\n",
       "         1.34344569e-04],\n",
       "       [-4.07023941e-04,  2.01569451e-06,  4.86987395e-04,\n",
       "         3.59133922e-05,  7.99744577e-04,  6.75901854e-04,\n",
       "         2.41325402e-04,  1.63084100e-03, -2.65692066e-04,\n",
       "         2.32654808e-04],\n",
       "       [-3.98777363e-04,  3.58039709e-06,  4.76059933e-04,\n",
       "         3.23732370e-05,  7.84903767e-04,  6.60424451e-04,\n",
       "         2.32539513e-04,  1.60664315e-03, -2.61338362e-04,\n",
       "         2.29886392e-04],\n",
       "       [-1.14748714e-03,  5.37264574e-05,  1.12091557e-03,\n",
       "        -2.23990476e-04,  1.30924838e-03, -1.14974771e-04,\n",
       "        -7.87390148e-04,  5.74362479e-05, -5.29492584e-04,\n",
       "         2.36619680e-04],\n",
       "       [-1.39266482e-04,  3.66491478e-05,  9.99748896e-05,\n",
       "        -1.04288817e-05,  1.98235175e-04,  6.65436791e-05,\n",
       "        -3.03117124e-05,  2.72269281e-04, -8.57717826e-05,\n",
       "         2.38263981e-05],\n",
       "       [-3.64606525e-02, -7.82922483e-03,  1.62651470e-02,\n",
       "        -4.44185941e-02, -4.03049679e-02, -1.09961316e-04,\n",
       "        -2.35517970e-02, -2.45080879e-02, -5.35997188e-03,\n",
       "         2.96880869e-03],\n",
       "       [-6.21049255e-02, -8.22585146e-03,  4.30162650e-02,\n",
       "        -4.73712030e-02, -2.32495582e-02,  1.87766020e-03,\n",
       "        -4.69826959e-02, -2.93857449e-02, -1.18554980e-02,\n",
       "         6.39150792e-03],\n",
       "       [-7.33633933e-02, -7.84424951e-03,  5.98643183e-02,\n",
       "        -1.46495787e-01, -9.43597013e-02, -4.43969567e-02,\n",
       "        -7.92886602e-01,  3.14753541e-01, -4.68594139e-01,\n",
       "         3.53670665e-02],\n",
       "       [ 0.00000000e+00,  0.00000000e+00,  0.00000000e+00,\n",
       "         0.00000000e+00,  0.00000000e+00,  0.00000000e+00,\n",
       "         0.00000000e+00,  0.00000000e+00,  0.00000000e+00,\n",
       "         0.00000000e+00],\n",
       "       [-5.74737535e-02,  6.88064571e-01, -3.32051443e-03,\n",
       "        -2.54524526e-02, -1.54844801e-02,  1.40254736e-01,\n",
       "         4.37832617e-03, -1.12772734e-02, -3.93469013e-02,\n",
       "        -2.78468715e-01],\n",
       "       [-6.32974468e-04,  2.12372590e-01,  2.00516917e-02,\n",
       "        -6.26403617e-02,  9.02358140e-02, -9.63579967e-01,\n",
       "         7.87881957e-02, -2.63390712e-02, -6.35824674e-02,\n",
       "        -2.32319856e-02],\n",
       "       [-5.83078937e-02,  6.80111455e-01, -9.07668422e-04,\n",
       "        -3.70110483e-02, -3.10887515e-03,  1.66776365e-01,\n",
       "         1.69486668e-02, -2.52524682e-02, -2.28927961e-02,\n",
       "         3.65926832e-01],\n",
       "       [ 5.10223210e-04,  5.97061954e-02, -5.68355196e-03,\n",
       "         1.45740562e-02, -2.03068863e-02,  4.69119706e-02,\n",
       "        -2.13265616e-02,  1.77641831e-02, -2.68747962e-02,\n",
       "        -8.85553469e-01],\n",
       "       [ 9.43973760e-04,  4.71612736e-03, -9.68110900e-04,\n",
       "         3.43455195e-04, -1.07610617e-03,  1.76685308e-03,\n",
       "        -1.24423087e-03,  1.82188281e-03, -3.10972075e-03,\n",
       "        -1.35090313e-02],\n",
       "       [ 3.71012309e-01,  3.31242568e-02,  1.05588563e-02,\n",
       "         8.03009023e-02,  2.35068913e-02,  4.96023677e-03,\n",
       "         3.02411493e-02,  8.64856599e-02, -1.86680641e-02,\n",
       "        -8.09030076e-05],\n",
       "       [ 3.81051143e-01,  3.55615620e-02, -8.26988869e-02,\n",
       "        -2.97734054e-02, -1.76376640e-01, -1.05306880e-02,\n",
       "         6.27799373e-02,  1.10180970e-01, -9.33336183e-03,\n",
       "         2.84763415e-03],\n",
       "       [ 1.78352543e-01,  2.32704014e-02, -7.25869821e-01,\n",
       "         1.67055348e-01,  1.05286043e-01, -1.14219906e-04,\n",
       "         1.39454597e-01,  4.71712360e-01, -1.71488540e-01,\n",
       "         2.13629102e-02],\n",
       "       [ 3.71012309e-01,  3.31242568e-02,  1.05588563e-02,\n",
       "         8.03009023e-02,  2.35068913e-02,  4.96023677e-03,\n",
       "         3.02411493e-02,  8.64856599e-02, -1.86680641e-02,\n",
       "        -8.09030076e-05],\n",
       "       [ 2.19717785e-02,  2.21237621e-03, -2.17690402e-02,\n",
       "        -1.37581613e-03, -4.58695331e-02, -2.60145614e-02,\n",
       "        -1.11942532e-02, -7.09640649e-02,  1.41260124e-02,\n",
       "        -1.29350112e-02],\n",
       "       [ 7.82829078e-03,  8.77974155e-04, -1.48583850e-02,\n",
       "         2.61035485e-03, -1.00407579e-02, -1.06670821e-02,\n",
       "        -1.19018944e-02, -3.96886133e-02,  7.71640310e-03,\n",
       "        -4.35729840e-03],\n",
       "       [ 3.38203198e-01,  1.71507941e-03,  2.99348120e-02,\n",
       "        -4.65956273e-01, -7.17709101e-01, -2.59139769e-02,\n",
       "         9.68380547e-02, -2.08270131e-02,  2.05651313e-02,\n",
       "         7.90573242e-03],\n",
       "       [ 1.55408245e-01,  2.02173962e-02, -5.22210906e-01,\n",
       "         9.75556234e-02, -4.41743167e-02, -4.08404706e-02,\n",
       "        -4.27262605e-01, -6.89694624e-01,  1.50752000e-01,\n",
       "        -2.36543096e-03],\n",
       "       [ 1.56367686e-01, -3.20068560e-02, -1.01094276e-01,\n",
       "        -7.87573086e-01,  5.72015348e-01,  9.32425072e-02,\n",
       "         3.44698026e-03, -3.49636413e-02,  5.33794374e-02,\n",
       "        -2.79361648e-02],\n",
       "       [ 2.62379237e-02,  1.98177146e-03,  9.80570159e-02,\n",
       "         6.91357337e-03,  1.09967948e-02,  1.50264385e-03,\n",
       "        -1.63785752e-02, -3.29208301e-02,  1.03243216e-02,\n",
       "        -9.24729743e-04],\n",
       "       [ 6.93157531e-04, -3.04706656e-03,  1.74333503e-03,\n",
       "        -3.42970318e-04,  3.25606418e-04, -1.15619270e-03,\n",
       "        -3.36217760e-03, -9.82299707e-04, -8.82893238e-03,\n",
       "        -3.59965313e-04],\n",
       "       [-1.40903089e-03, -2.95798761e-03, -1.82071827e-04,\n",
       "         1.78681717e-03, -1.39508761e-03,  2.23604557e-03,\n",
       "        -2.19578350e-03,  2.78945396e-03,  5.85387044e-03,\n",
       "        -7.16936990e-04],\n",
       "       [-8.68422127e-05,  2.55595545e-04, -4.50039880e-05,\n",
       "         3.20513920e-05, -6.78719741e-05, -2.83837157e-04,\n",
       "        -9.01506044e-04,  1.15526415e-03,  2.66708966e-03,\n",
       "         1.32030491e-04],\n",
       "       [-1.89173605e-02,  5.60874868e-02, -1.57918712e-02,\n",
       "        -1.65773562e-02, -2.15606994e-02, -7.52575554e-02,\n",
       "        -2.95060902e-01,  3.64786975e-01,  7.90140342e-01,\n",
       "         2.17046977e-03],\n",
       "       [-1.19702814e-04,  2.39700104e-04, -5.06298706e-05,\n",
       "         1.53419405e-04, -1.27837307e-04,  1.38214749e-04,\n",
       "        -1.46747110e-04,  2.60960055e-04,  4.69773594e-04,\n",
       "         1.01416615e-05],\n",
       "       [-1.20600772e-03,  8.59410587e-03, -4.51180856e-03,\n",
       "        -3.30186066e-03, -3.62861832e-03, -2.85203742e-02,\n",
       "        -2.13879826e-03,  1.73324816e-03,  1.57608882e-02,\n",
       "        -1.37773275e-02],\n",
       "       [ 6.54775618e-05, -1.95696925e-04, -6.55635551e-06,\n",
       "         2.17795995e-05,  5.30963908e-07,  8.80990809e-05,\n",
       "         1.82486470e-06,  5.59993556e-06,  6.39843191e-07,\n",
       "        -2.74203524e-05]])"
      ]
     },
     "execution_count": 19,
     "metadata": {},
     "output_type": "execute_result"
    }
   ],
   "source": [
    "eigen_vector = eig_vec[:,0:10]\n",
    "eigen_vector"
   ]
  },
  {
   "cell_type": "code",
   "execution_count": 20,
   "metadata": {},
   "outputs": [
    {
     "data": {
      "text/html": [
       "<div>\n",
       "<style scoped>\n",
       "    .dataframe tbody tr th:only-of-type {\n",
       "        vertical-align: middle;\n",
       "    }\n",
       "\n",
       "    .dataframe tbody tr th {\n",
       "        vertical-align: top;\n",
       "    }\n",
       "\n",
       "    .dataframe thead th {\n",
       "        text-align: right;\n",
       "    }\n",
       "</style>\n",
       "<table border=\"1\" class=\"dataframe\">\n",
       "  <thead>\n",
       "    <tr style=\"text-align: right;\">\n",
       "      <th></th>\n",
       "      <th>PCA1</th>\n",
       "      <th>PCA2</th>\n",
       "      <th>PCA3</th>\n",
       "      <th>PCA4</th>\n",
       "      <th>PCA5</th>\n",
       "      <th>PCA6</th>\n",
       "      <th>PCA7</th>\n",
       "      <th>PCA8</th>\n",
       "      <th>PCA9</th>\n",
       "      <th>PCA10</th>\n",
       "    </tr>\n",
       "  </thead>\n",
       "  <tbody>\n",
       "    <tr>\n",
       "      <th>0</th>\n",
       "      <td>1.177778</td>\n",
       "      <td>1.545039</td>\n",
       "      <td>-1.204691</td>\n",
       "      <td>-0.859074</td>\n",
       "      <td>-0.166490</td>\n",
       "      <td>-0.661335</td>\n",
       "      <td>-0.549926</td>\n",
       "      <td>0.072661</td>\n",
       "      <td>0.236978</td>\n",
       "      <td>-0.850144</td>\n",
       "    </tr>\n",
       "    <tr>\n",
       "      <th>1</th>\n",
       "      <td>0.082669</td>\n",
       "      <td>1.417757</td>\n",
       "      <td>-0.418371</td>\n",
       "      <td>-1.316838</td>\n",
       "      <td>-0.351548</td>\n",
       "      <td>-0.633248</td>\n",
       "      <td>-0.180329</td>\n",
       "      <td>0.180996</td>\n",
       "      <td>0.218926</td>\n",
       "      <td>-0.868534</td>\n",
       "    </tr>\n",
       "    <tr>\n",
       "      <th>2</th>\n",
       "      <td>1.179204</td>\n",
       "      <td>1.545156</td>\n",
       "      <td>-1.205806</td>\n",
       "      <td>-0.856173</td>\n",
       "      <td>-0.164666</td>\n",
       "      <td>-0.660515</td>\n",
       "      <td>-0.534578</td>\n",
       "      <td>0.066593</td>\n",
       "      <td>0.246212</td>\n",
       "      <td>-0.850868</td>\n",
       "    </tr>\n",
       "    <tr>\n",
       "      <th>3</th>\n",
       "      <td>0.531352</td>\n",
       "      <td>1.518217</td>\n",
       "      <td>-1.279666</td>\n",
       "      <td>-0.396287</td>\n",
       "      <td>-0.714066</td>\n",
       "      <td>-0.736729</td>\n",
       "      <td>-0.378971</td>\n",
       "      <td>-0.016833</td>\n",
       "      <td>0.294489</td>\n",
       "      <td>-0.837547</td>\n",
       "    </tr>\n",
       "    <tr>\n",
       "      <th>4</th>\n",
       "      <td>1.047643</td>\n",
       "      <td>1.567909</td>\n",
       "      <td>-1.118716</td>\n",
       "      <td>-0.272672</td>\n",
       "      <td>-0.619735</td>\n",
       "      <td>-0.738899</td>\n",
       "      <td>-0.659337</td>\n",
       "      <td>0.140569</td>\n",
       "      <td>0.127160</td>\n",
       "      <td>-0.823453</td>\n",
       "    </tr>\n",
       "  </tbody>\n",
       "</table>\n",
       "</div>"
      ],
      "text/plain": [
       "       PCA1      PCA2      PCA3      PCA4      PCA5      PCA6      PCA7  \\\n",
       "0  1.177778  1.545039 -1.204691 -0.859074 -0.166490 -0.661335 -0.549926   \n",
       "1  0.082669  1.417757 -0.418371 -1.316838 -0.351548 -0.633248 -0.180329   \n",
       "2  1.179204  1.545156 -1.205806 -0.856173 -0.164666 -0.660515 -0.534578   \n",
       "3  0.531352  1.518217 -1.279666 -0.396287 -0.714066 -0.736729 -0.378971   \n",
       "4  1.047643  1.567909 -1.118716 -0.272672 -0.619735 -0.738899 -0.659337   \n",
       "\n",
       "       PCA8      PCA9     PCA10  \n",
       "0  0.072661  0.236978 -0.850144  \n",
       "1  0.180996  0.218926 -0.868534  \n",
       "2  0.066593  0.246212 -0.850868  \n",
       "3 -0.016833  0.294489 -0.837547  \n",
       "4  0.140569  0.127160 -0.823453  "
      ]
     },
     "execution_count": 20,
     "metadata": {},
     "output_type": "execute_result"
    }
   ],
   "source": [
    "df_pca = pd.DataFrame(np.array(x)@eigen_vector,columns = ['PCA1','PCA2','PCA3','PCA4','PCA5','PCA6','PCA7','PCA8','PCA9','PCA10'])\n",
    "df_pca.head()"
   ]
  },
  {
   "cell_type": "code",
   "execution_count": 21,
   "metadata": {},
   "outputs": [
    {
     "data": {
      "text/plain": [
       "PCA1     0\n",
       "PCA2     0\n",
       "PCA3     0\n",
       "PCA4     0\n",
       "PCA5     0\n",
       "PCA6     0\n",
       "PCA7     0\n",
       "PCA8     0\n",
       "PCA9     0\n",
       "PCA10    0\n",
       "dtype: int64"
      ]
     },
     "execution_count": 21,
     "metadata": {},
     "output_type": "execute_result"
    }
   ],
   "source": [
    "df_pca.isnull().sum()"
   ]
  },
  {
   "cell_type": "code",
   "execution_count": 22,
   "metadata": {},
   "outputs": [],
   "source": [
    "from sklearn.decomposition import PCA"
   ]
  },
  {
   "cell_type": "code",
   "execution_count": 23,
   "metadata": {},
   "outputs": [],
   "source": [
    "pca = PCA(n_components = 10, random_state = 10)\n",
    "x_pca_train = pca.fit_transform(x_train)\n",
    "x_pca_test = pca.transform(x_test)"
   ]
  },
  {
   "cell_type": "code",
   "execution_count": 24,
   "metadata": {},
   "outputs": [
    {
     "name": "stdout",
     "output_type": "stream",
     "text": [
      "(163207, 10)\n",
      "(69947, 10)\n"
     ]
    }
   ],
   "source": [
    "print(x_pca_train.shape)\n",
    "print(x_pca_test.shape)"
   ]
  },
  {
   "cell_type": "code",
   "execution_count": 25,
   "metadata": {},
   "outputs": [],
   "source": [
    "from sklearn.ensemble import RandomForestClassifier\n",
    "rf = RandomForestClassifier()"
   ]
  },
  {
   "cell_type": "code",
   "execution_count": 28,
   "metadata": {},
   "outputs": [],
   "source": [
    "from sklearn.tree import DecisionTreeClassifier\n",
    "from sklearn.metrics import accuracy_score, roc_auc_score"
   ]
  },
  {
   "cell_type": "code",
   "execution_count": 37,
   "metadata": {},
   "outputs": [],
   "source": [
    "def decisiontree_model_run(X_train, X_test, y_train, y_test):\n",
    "    \n",
    "    # create a decision tree classifier object\n",
    "    # use 'random_state' to obtain the same results for multiple code runs\n",
    "    df_tree = DecisionTreeClassifier(random_state=10)\n",
    "    \n",
    "    # fit the decision tree model on the train set\n",
    "    df_tree.fit(X_train, y_train)\n",
    "    \n",
    "    # predict the target class for test set\n",
    "    y_pred = df_tree.predict(X_test)\n",
    "    y_pred_train = df_tree.predict(X_train)\n",
    "    \n",
    "    # print the accuracy score\n",
    "    print('Accuracy on train set: ')\n",
    "    print(accuracy_score(y_train, y_pred_train))\n",
    "    print('Accuracy on test set: ')\n",
    "    print(accuracy_score(y_test, y_pred))\n",
    "    print('Recall on train set:')\n",
    "    print(recall_score(y_train,y_pred_train))\n",
    "    print('Recall on test set:')\n",
    "    print(recall_score(y_test,y_pred))"
   ]
  },
  {
   "cell_type": "code",
   "execution_count": 38,
   "metadata": {},
   "outputs": [
    {
     "name": "stdout",
     "output_type": "stream",
     "text": [
      "Accuracy on train set: \n",
      "0.9999387281182792\n",
      "Accuracy on test set: \n",
      "0.668477561582341\n",
      "Recall on train set:\n",
      "0.9997180239115723\n",
      "Recall on test set:\n",
      "0.27860302370106294\n"
     ]
    }
   ],
   "source": [
    "decisiontree_model_run(x_train, x_test, y_train, y_test)"
   ]
  },
  {
   "cell_type": "code",
   "execution_count": 39,
   "metadata": {},
   "outputs": [
    {
     "name": "stdout",
     "output_type": "stream",
     "text": [
      "Accuracy on train set: \n",
      "0.9997181493440845\n",
      "Accuracy on test set: \n",
      "0.666233004989492\n",
      "Recall on train set:\n",
      "0.9987875028197609\n",
      "Recall on test set:\n",
      "0.2638146167557932\n"
     ]
    }
   ],
   "source": [
    "decisiontree_model_run(x_pca_train, x_pca_test, y_train, y_test)"
   ]
  },
  {
   "cell_type": "code",
   "execution_count": 41,
   "metadata": {},
   "outputs": [],
   "source": [
    "def randomforest_model_run(X_train, X_test, y_train, y_test):\n",
    "    \n",
    "    # create a decision tree classifier object\n",
    "    # use 'random_state' to obtain the same results for multiple code runs\n",
    "    rf= RandomForestClassifier()\n",
    "    \n",
    "    # fit the decision tree model on the train set\n",
    "    rf.fit(X_train, y_train)\n",
    "    \n",
    "    # predict the target class for test set\n",
    "    y_pred = rf.predict(X_test)\n",
    "    y_pred_train = rf.predict(X_train)\n",
    "    \n",
    "    # print the accuracy score\n",
    "    print('Accuracy on train set: ')\n",
    "    print(accuracy_score(y_train, y_pred_train))\n",
    "    print('Accuracy on test set: ')\n",
    "    print(accuracy_score(y_test, y_pred))\n",
    "    print('Recall on train set:')\n",
    "    print(recall_score(y_train,y_pred_train))\n",
    "    print('Recall on test set:')\n",
    "    print(recall_score(y_test,y_pred))"
   ]
  },
  {
   "cell_type": "code",
   "execution_count": 42,
   "metadata": {},
   "outputs": [
    {
     "name": "stdout",
     "output_type": "stream",
     "text": [
      "Accuracy on train set: \n",
      "0.9999387281182792\n",
      "Accuracy on test set: \n",
      "0.7813487354711425\n",
      "Recall on train set:\n",
      "0.9998590119557862\n",
      "Recall on test set:\n",
      "0.03881956823133294\n"
     ]
    }
   ],
   "source": [
    "randomforest_model_run(x_train,x_test,y_train,y_test)"
   ]
  },
  {
   "cell_type": "code",
   "execution_count": 43,
   "metadata": {},
   "outputs": [
    {
     "name": "stdout",
     "output_type": "stream",
     "text": [
      "Accuracy on train set: \n",
      "0.9996691318387079\n",
      "Accuracy on test set: \n",
      "0.7500107224041059\n",
      "Recall on train set:\n",
      "0.998900293255132\n",
      "Recall on test set:\n",
      "0.11005479632930613\n"
     ]
    }
   ],
   "source": [
    "randomforest_model_run(x_pca_train, x_pca_test, y_train, y_test)"
   ]
  },
  {
   "cell_type": "code",
   "execution_count": null,
   "metadata": {},
   "outputs": [],
   "source": []
  }
 ],
 "metadata": {
  "kernelspec": {
   "display_name": "Python 3",
   "language": "python",
   "name": "python3"
  },
  "language_info": {
   "codemirror_mode": {
    "name": "ipython",
    "version": 3
   },
   "file_extension": ".py",
   "mimetype": "text/x-python",
   "name": "python",
   "nbconvert_exporter": "python",
   "pygments_lexer": "ipython3",
   "version": "3.8.5"
  }
 },
 "nbformat": 4,
 "nbformat_minor": 4
}
