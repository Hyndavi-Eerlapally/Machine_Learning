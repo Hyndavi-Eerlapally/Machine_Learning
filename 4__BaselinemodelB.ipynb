{
 "cells": [
  {
   "cell_type": "code",
   "execution_count": null,
   "metadata": {},
   "outputs": [],
   "source": []
  },
  {
   "cell_type": "code",
   "execution_count": 28,
   "metadata": {},
   "outputs": [],
   "source": [
    "import numpy as np\n",
    "import pandas as pd\n",
    "import seaborn as sns\n",
    "import scipy.stats as stats\n",
    "import matplotlib.pyplot as plt\n",
    "import statsmodels.api as sm\n",
    "from sklearn.preprocessing import StandardScaler\n",
    "from sklearn.model_selection import train_test_split\n",
    "from imblearn import over_sampling\n",
    "from imblearn.over_sampling import SMOTE\n",
    "from sklearn import metrics\n",
    "from sklearn.linear_model import LogisticRegression\n",
    "from sklearn.feature_selection import RFE\n",
    "from sklearn.tree import DecisionTreeClassifier\n",
    "from sklearn.metrics import classification_report\n",
    "from sklearn.metrics import cohen_kappa_score\n",
    "from sklearn.metrics import confusion_matrix,f1_score\n",
    "from sklearn.metrics import roc_curve\n",
    "from sklearn.metrics import accuracy_score,recall_score\n",
    "from statsmodels.stats.outliers_influence import variance_inflation_factor\n",
    "from xgboost import XGBClassifier\n",
    "import warnings\n",
    "warnings.filterwarnings('ignore')\n",
    "from sklearn.ensemble import RandomForestClassifier,GradientBoostingClassifier,AdaBoostClassifier,StackingClassifier"
   ]
  },
  {
   "cell_type": "code",
   "execution_count": 29,
   "metadata": {
    "scrolled": true
   },
   "outputs": [
    {
     "data": {
      "text/html": [
       "<div>\n",
       "<style scoped>\n",
       "    .dataframe tbody tr th:only-of-type {\n",
       "        vertical-align: middle;\n",
       "    }\n",
       "\n",
       "    .dataframe tbody tr th {\n",
       "        vertical-align: top;\n",
       "    }\n",
       "\n",
       "    .dataframe thead th {\n",
       "        text-align: right;\n",
       "    }\n",
       "</style>\n",
       "<table border=\"1\" class=\"dataframe\">\n",
       "  <thead>\n",
       "    <tr style=\"text-align: right;\">\n",
       "      <th></th>\n",
       "      <th>Unnamed: 0</th>\n",
       "      <th>Unnamed: 0.1</th>\n",
       "      <th>DISBURSED_AMOUNT</th>\n",
       "      <th>ASSET_COST</th>\n",
       "      <th>LTV</th>\n",
       "      <th>PERFORM_CNS_SCORE</th>\n",
       "      <th>PRI_CURRENT_BALANCE</th>\n",
       "      <th>PRI_SANCTIONED_AMOUNT</th>\n",
       "      <th>PRI_DISBURSED_AMOUNT</th>\n",
       "      <th>SEC_CURRENT_BALANCE</th>\n",
       "      <th>...</th>\n",
       "      <th>NO_OF_INQUIRIES</th>\n",
       "      <th>PERFORM_CNS_SCORE_DESCRIPTION</th>\n",
       "      <th>EMPLOYMENT_TYPE</th>\n",
       "      <th>BRANCH_ID</th>\n",
       "      <th>SUPPLIER_ID</th>\n",
       "      <th>MANUFACTURER_ID</th>\n",
       "      <th>CURRENT_PINCODE_ID</th>\n",
       "      <th>STATE_ID</th>\n",
       "      <th>EMPLOYEE_CODE_ID</th>\n",
       "      <th>LOAN_DEFAULT</th>\n",
       "    </tr>\n",
       "  </thead>\n",
       "  <tbody>\n",
       "    <tr>\n",
       "      <th>0</th>\n",
       "      <td>0</td>\n",
       "      <td>0.000000</td>\n",
       "      <td>0.038125</td>\n",
       "      <td>0.013442</td>\n",
       "      <td>0.935860</td>\n",
       "      <td>0.000000</td>\n",
       "      <td>0.064710</td>\n",
       "      <td>0.00000</td>\n",
       "      <td>0.00000</td>\n",
       "      <td>0.015698</td>\n",
       "      <td>...</td>\n",
       "      <td>0.866213</td>\n",
       "      <td>0.231313</td>\n",
       "      <td>0.203458</td>\n",
       "      <td>0.048586</td>\n",
       "      <td>0.000236</td>\n",
       "      <td>0.24287</td>\n",
       "      <td>0.000077</td>\n",
       "      <td>0.143703</td>\n",
       "      <td>0.000232</td>\n",
       "      <td>0</td>\n",
       "    </tr>\n",
       "    <tr>\n",
       "      <th>1</th>\n",
       "      <td>1</td>\n",
       "      <td>0.000004</td>\n",
       "      <td>0.034612</td>\n",
       "      <td>0.017934</td>\n",
       "      <td>0.743792</td>\n",
       "      <td>0.671910</td>\n",
       "      <td>0.064978</td>\n",
       "      <td>0.00005</td>\n",
       "      <td>0.00005</td>\n",
       "      <td>0.015698</td>\n",
       "      <td>...</td>\n",
       "      <td>0.866213</td>\n",
       "      <td>0.272629</td>\n",
       "      <td>0.227657</td>\n",
       "      <td>0.048586</td>\n",
       "      <td>0.000236</td>\n",
       "      <td>0.24287</td>\n",
       "      <td>0.000030</td>\n",
       "      <td>0.143703</td>\n",
       "      <td>0.000232</td>\n",
       "      <td>1</td>\n",
       "    </tr>\n",
       "    <tr>\n",
       "      <th>2</th>\n",
       "      <td>2</td>\n",
       "      <td>0.000009</td>\n",
       "      <td>0.040888</td>\n",
       "      <td>0.015302</td>\n",
       "      <td>0.936801</td>\n",
       "      <td>0.000000</td>\n",
       "      <td>0.064710</td>\n",
       "      <td>0.00000</td>\n",
       "      <td>0.00000</td>\n",
       "      <td>0.015698</td>\n",
       "      <td>...</td>\n",
       "      <td>0.866213</td>\n",
       "      <td>0.231313</td>\n",
       "      <td>0.227657</td>\n",
       "      <td>0.048586</td>\n",
       "      <td>0.000236</td>\n",
       "      <td>0.24287</td>\n",
       "      <td>0.000202</td>\n",
       "      <td>0.143703</td>\n",
       "      <td>0.000232</td>\n",
       "      <td>0</td>\n",
       "    </tr>\n",
       "    <tr>\n",
       "      <th>3</th>\n",
       "      <td>3</td>\n",
       "      <td>0.000013</td>\n",
       "      <td>0.045222</td>\n",
       "      <td>0.018287</td>\n",
       "      <td>0.923267</td>\n",
       "      <td>0.342697</td>\n",
       "      <td>0.064710</td>\n",
       "      <td>0.00000</td>\n",
       "      <td>0.00000</td>\n",
       "      <td>0.015698</td>\n",
       "      <td>...</td>\n",
       "      <td>0.095581</td>\n",
       "      <td>0.280423</td>\n",
       "      <td>0.227657</td>\n",
       "      <td>0.048586</td>\n",
       "      <td>0.000236</td>\n",
       "      <td>0.24287</td>\n",
       "      <td>0.000064</td>\n",
       "      <td>0.143703</td>\n",
       "      <td>0.000232</td>\n",
       "      <td>1</td>\n",
       "    </tr>\n",
       "    <tr>\n",
       "      <th>4</th>\n",
       "      <td>4</td>\n",
       "      <td>0.000017</td>\n",
       "      <td>0.039967</td>\n",
       "      <td>0.014636</td>\n",
       "      <td>0.922208</td>\n",
       "      <td>0.000000</td>\n",
       "      <td>0.064710</td>\n",
       "      <td>0.00000</td>\n",
       "      <td>0.00000</td>\n",
       "      <td>0.015698</td>\n",
       "      <td>...</td>\n",
       "      <td>0.095581</td>\n",
       "      <td>0.231313</td>\n",
       "      <td>0.227657</td>\n",
       "      <td>0.048586</td>\n",
       "      <td>0.000236</td>\n",
       "      <td>0.24287</td>\n",
       "      <td>0.000060</td>\n",
       "      <td>0.143703</td>\n",
       "      <td>0.000232</td>\n",
       "      <td>1</td>\n",
       "    </tr>\n",
       "  </tbody>\n",
       "</table>\n",
       "<p>5 rows × 41 columns</p>\n",
       "</div>"
      ],
      "text/plain": [
       "   Unnamed: 0  Unnamed: 0.1  DISBURSED_AMOUNT  ASSET_COST       LTV  \\\n",
       "0           0      0.000000          0.038125    0.013442  0.935860   \n",
       "1           1      0.000004          0.034612    0.017934  0.743792   \n",
       "2           2      0.000009          0.040888    0.015302  0.936801   \n",
       "3           3      0.000013          0.045222    0.018287  0.923267   \n",
       "4           4      0.000017          0.039967    0.014636  0.922208   \n",
       "\n",
       "   PERFORM_CNS_SCORE  PRI_CURRENT_BALANCE  PRI_SANCTIONED_AMOUNT  \\\n",
       "0           0.000000             0.064710                0.00000   \n",
       "1           0.671910             0.064978                0.00005   \n",
       "2           0.000000             0.064710                0.00000   \n",
       "3           0.342697             0.064710                0.00000   \n",
       "4           0.000000             0.064710                0.00000   \n",
       "\n",
       "   PRI_DISBURSED_AMOUNT  SEC_CURRENT_BALANCE  ...  NO_OF_INQUIRIES  \\\n",
       "0               0.00000             0.015698  ...         0.866213   \n",
       "1               0.00005             0.015698  ...         0.866213   \n",
       "2               0.00000             0.015698  ...         0.866213   \n",
       "3               0.00000             0.015698  ...         0.095581   \n",
       "4               0.00000             0.015698  ...         0.095581   \n",
       "\n",
       "   PERFORM_CNS_SCORE_DESCRIPTION  EMPLOYMENT_TYPE  BRANCH_ID  SUPPLIER_ID  \\\n",
       "0                       0.231313         0.203458   0.048586     0.000236   \n",
       "1                       0.272629         0.227657   0.048586     0.000236   \n",
       "2                       0.231313         0.227657   0.048586     0.000236   \n",
       "3                       0.280423         0.227657   0.048586     0.000236   \n",
       "4                       0.231313         0.227657   0.048586     0.000236   \n",
       "\n",
       "   MANUFACTURER_ID  CURRENT_PINCODE_ID  STATE_ID  EMPLOYEE_CODE_ID  \\\n",
       "0          0.24287            0.000077  0.143703          0.000232   \n",
       "1          0.24287            0.000030  0.143703          0.000232   \n",
       "2          0.24287            0.000202  0.143703          0.000232   \n",
       "3          0.24287            0.000064  0.143703          0.000232   \n",
       "4          0.24287            0.000060  0.143703          0.000232   \n",
       "\n",
       "   LOAN_DEFAULT  \n",
       "0             0  \n",
       "1             1  \n",
       "2             0  \n",
       "3             1  \n",
       "4             1  \n",
       "\n",
       "[5 rows x 41 columns]"
      ]
     },
     "execution_count": 29,
     "metadata": {},
     "output_type": "execute_result"
    }
   ],
   "source": [
    "df = pd.read_csv('finaldata.csv')\n",
    "df.head()"
   ]
  },
  {
   "cell_type": "code",
   "execution_count": 30,
   "metadata": {},
   "outputs": [
    {
     "data": {
      "text/plain": [
       "Index(['Unnamed: 0', 'Unnamed: 0.1', 'DISBURSED_AMOUNT', 'ASSET_COST', 'LTV',\n",
       "       'PERFORM_CNS_SCORE', 'PRI_CURRENT_BALANCE', 'PRI_SANCTIONED_AMOUNT',\n",
       "       'PRI_DISBURSED_AMOUNT', 'SEC_CURRENT_BALANCE', 'SEC_SANCTIONED_AMOUNT',\n",
       "       'SEC_DISBURSED_AMOUNT', 'PRIMARY_INSTAL_AMT', 'SEC_INSTAL_AMT',\n",
       "       'AVERAGE_ACCT_AGE', 'CREDIT_HISTORY_LENGTH', 'AGE', 'MOBILENO_AVL_FLAG',\n",
       "       'AADHAR_FLAG', 'PAN_FLAG', 'VOTERID_FLAG', 'DRIVING_FLAG',\n",
       "       'PASSPORT_FLAG', 'PRI_NO_OF_ACCTS', 'PRI_ACTIVE_ACCTS',\n",
       "       'PRI_OVERDUE_ACCTS', 'SEC_NO_OF_ACCTS', 'SEC_ACTIVE_ACCTS',\n",
       "       'SEC_OVERDUE_ACCTS', 'NEW_ACCTS_IN_LAST_SIX_MONTHS',\n",
       "       'DELINQUENT_ACCTS_IN_LAST_SIX_MONTHS', 'NO_OF_INQUIRIES',\n",
       "       'PERFORM_CNS_SCORE_DESCRIPTION', 'EMPLOYMENT_TYPE', 'BRANCH_ID',\n",
       "       'SUPPLIER_ID', 'MANUFACTURER_ID', 'CURRENT_PINCODE_ID', 'STATE_ID',\n",
       "       'EMPLOYEE_CODE_ID', 'LOAN_DEFAULT'],\n",
       "      dtype='object')"
      ]
     },
     "execution_count": 30,
     "metadata": {},
     "output_type": "execute_result"
    }
   ],
   "source": [
    "df.columns"
   ]
  },
  {
   "cell_type": "code",
   "execution_count": 31,
   "metadata": {},
   "outputs": [],
   "source": [
    "df = df.drop(['Unnamed: 0', 'Unnamed: 0.1'],axis = 1)"
   ]
  },
  {
   "cell_type": "code",
   "execution_count": 32,
   "metadata": {},
   "outputs": [],
   "source": [
    "X = df.drop('LOAN_DEFAULT',axis=1)\n",
    "y = df['LOAN_DEFAULT']"
   ]
  },
  {
   "cell_type": "code",
   "execution_count": null,
   "metadata": {},
   "outputs": [],
   "source": []
  },
  {
   "cell_type": "code",
   "execution_count": 33,
   "metadata": {},
   "outputs": [
    {
     "data": {
      "text/plain": [
       "(233154, 39)"
      ]
     },
     "execution_count": 33,
     "metadata": {},
     "output_type": "execute_result"
    }
   ],
   "source": [
    "df.shape"
   ]
  },
  {
   "cell_type": "code",
   "execution_count": null,
   "metadata": {},
   "outputs": [],
   "source": []
  },
  {
   "cell_type": "code",
   "execution_count": 34,
   "metadata": {},
   "outputs": [],
   "source": [
    "X_train, X_test, y_train, y_test = train_test_split( X, y, test_size=0.2, random_state=42)"
   ]
  },
  {
   "cell_type": "markdown",
   "metadata": {},
   "source": [
    "### LR without RFE"
   ]
  },
  {
   "cell_type": "code",
   "execution_count": 35,
   "metadata": {},
   "outputs": [],
   "source": [
    "lr = LogisticRegression()\n",
    "lr_model = lr.fit(X_train,y_train)"
   ]
  },
  {
   "cell_type": "code",
   "execution_count": 36,
   "metadata": {},
   "outputs": [
    {
     "data": {
      "text/plain": [
       "0.004085248806418271"
      ]
     },
     "execution_count": 36,
     "metadata": {},
     "output_type": "execute_result"
    }
   ],
   "source": [
    "f1_score(y_train,lr_model.predict(X_train))"
   ]
  },
  {
   "cell_type": "code",
   "execution_count": null,
   "metadata": {},
   "outputs": [],
   "source": [
    "  rf= RandomForestClassifier()\n",
    "    \n",
    "    # fit the decision tree model on the train set\n",
    "    rf.fit(X_train, y_train)\n",
    "    \n",
    "    # predict the target class for test set\n",
    "    y_pred = rf.predict(X_test)\n",
    "    y_pred_train = rf.predict(X_train)"
   ]
  },
  {
   "cell_type": "code",
   "execution_count": null,
   "metadata": {},
   "outputs": [],
   "source": [
    " print('Recall on train set:')\n",
    "    print(recall_score(y_train,y_pred_train))\n",
    "    print('Recall on test set:')\n",
    "    print(recall_score(y_test,y_pred))"
   ]
  },
  {
   "cell_type": "code",
   "execution_count": 38,
   "metadata": {},
   "outputs": [
    {
     "name": "stdout",
     "output_type": "stream",
     "text": [
      "Recall: 0.001\n"
     ]
    }
   ],
   "source": [
    "print('Recall: %.3f' % recall_score(y_test,lr_model.predict(X_test) ))"
   ]
  },
  {
   "cell_type": "code",
   "execution_count": 39,
   "metadata": {},
   "outputs": [
    {
     "name": "stdout",
     "output_type": "stream",
     "text": [
      "Recall: 0.002\n"
     ]
    }
   ],
   "source": [
    "print('Recall: %.3f' % recall_score(y_train,lr_model.predict(X_train) ))"
   ]
  },
  {
   "cell_type": "markdown",
   "metadata": {},
   "source": [
    "### RF Without RFE"
   ]
  },
  {
   "cell_type": "code",
   "execution_count": 40,
   "metadata": {},
   "outputs": [],
   "source": [
    "rf = RandomForestClassifier()\n",
    "rf_model = rf.fit(X_train,y_train)"
   ]
  },
  {
   "cell_type": "code",
   "execution_count": 41,
   "metadata": {},
   "outputs": [
    {
     "name": "stdout",
     "output_type": "stream",
     "text": [
      "Recall: 0.037\n"
     ]
    }
   ],
   "source": [
    "print('Recall: %.3f' % recall_score(y_test,rf_model.predict(X_test) ))"
   ]
  },
  {
   "cell_type": "code",
   "execution_count": 42,
   "metadata": {},
   "outputs": [
    {
     "name": "stdout",
     "output_type": "stream",
     "text": [
      "Recall: 0.002\n"
     ]
    }
   ],
   "source": [
    "print('Recall: %.3f' % recall_score(y_train,lr_model.predict(X_train) ))"
   ]
  },
  {
   "cell_type": "code",
   "execution_count": 13,
   "metadata": {},
   "outputs": [
    {
     "data": {
      "text/plain": [
       "0.9984417511748701"
      ]
     },
     "execution_count": 13,
     "metadata": {},
     "output_type": "execute_result"
    }
   ],
   "source": [
    "f1_score(y_train,rf_model.predict(X_train))"
   ]
  },
  {
   "cell_type": "code",
   "execution_count": 14,
   "metadata": {},
   "outputs": [
    {
     "data": {
      "text/plain": [
       "0.08700875235970483"
      ]
     },
     "execution_count": 14,
     "metadata": {},
     "output_type": "execute_result"
    }
   ],
   "source": [
    "f1_score(y_test,rf_model.predict(X_test))"
   ]
  },
  {
   "cell_type": "markdown",
   "metadata": {},
   "source": [
    "### DT without RFE"
   ]
  },
  {
   "cell_type": "code",
   "execution_count": 44,
   "metadata": {},
   "outputs": [],
   "source": [
    "dt = DecisionTreeClassifier(random_state=34)\n",
    "model_dt = dt.fit(X_train,y_train)"
   ]
  },
  {
   "cell_type": "code",
   "execution_count": 45,
   "metadata": {},
   "outputs": [
    {
     "name": "stdout",
     "output_type": "stream",
     "text": [
      "Recall: 1.000\n"
     ]
    }
   ],
   "source": [
    "print('Recall: %.3f' % recall_score(y_train,model_dt.predict(X_train) ))"
   ]
  },
  {
   "cell_type": "code",
   "execution_count": 47,
   "metadata": {},
   "outputs": [
    {
     "name": "stdout",
     "output_type": "stream",
     "text": [
      "Recall: 0.286\n"
     ]
    }
   ],
   "source": [
    "print('Recall: %.3f' % recall_score(y_test,model_dt.predict(X_test) ))"
   ]
  },
  {
   "cell_type": "code",
   "execution_count": 21,
   "metadata": {},
   "outputs": [
    {
     "data": {
      "text/plain": [
       "1.0"
      ]
     },
     "execution_count": 21,
     "metadata": {},
     "output_type": "execute_result"
    }
   ],
   "source": [
    "f1_score(y_train,model_dt.predict(X_train))"
   ]
  },
  {
   "cell_type": "code",
   "execution_count": 22,
   "metadata": {},
   "outputs": [
    {
     "data": {
      "text/plain": [
       "0.2698840785427017"
      ]
     },
     "execution_count": 22,
     "metadata": {},
     "output_type": "execute_result"
    }
   ],
   "source": [
    "f1_score(y_test,model_dt.predict(X_test))"
   ]
  },
  {
   "cell_type": "markdown",
   "metadata": {},
   "source": [
    "### GB Without RFE"
   ]
  },
  {
   "cell_type": "code",
   "execution_count": 48,
   "metadata": {},
   "outputs": [],
   "source": [
    "gb = GradientBoostingClassifier()\n",
    "gb_model = gb.fit(X_train,y_train)"
   ]
  },
  {
   "cell_type": "code",
   "execution_count": 49,
   "metadata": {},
   "outputs": [
    {
     "name": "stdout",
     "output_type": "stream",
     "text": [
      "Recall: 0.008\n"
     ]
    }
   ],
   "source": [
    "print('Recall: %.3f' % recall_score(y_train,gb_model.predict(X_train) ))"
   ]
  },
  {
   "cell_type": "code",
   "execution_count": 50,
   "metadata": {},
   "outputs": [
    {
     "name": "stdout",
     "output_type": "stream",
     "text": [
      "Recall: 0.007\n"
     ]
    }
   ],
   "source": [
    "print('Recall: %.3f' % recall_score(y_test,gb_model.predict(X_test) ))"
   ]
  },
  {
   "cell_type": "code",
   "execution_count": 15,
   "metadata": {},
   "outputs": [
    {
     "data": {
      "text/plain": [
       "0.9593208283559632"
      ]
     },
     "execution_count": 15,
     "metadata": {},
     "output_type": "execute_result"
    }
   ],
   "source": [
    "f1_score(y_sm_train,gb_model.predict(X_sm_train))"
   ]
  },
  {
   "cell_type": "code",
   "execution_count": 20,
   "metadata": {},
   "outputs": [
    {
     "data": {
      "text/plain": [
       "0.007434944237918214"
      ]
     },
     "execution_count": 20,
     "metadata": {},
     "output_type": "execute_result"
    }
   ],
   "source": [
    "f1_score(y_test,gb_model.predict(X_test))"
   ]
  },
  {
   "cell_type": "markdown",
   "metadata": {},
   "source": [
    "### XGB without RFE"
   ]
  },
  {
   "cell_type": "code",
   "execution_count": 51,
   "metadata": {},
   "outputs": [
    {
     "name": "stdout",
     "output_type": "stream",
     "text": [
      "[16:56:54] WARNING: C:/Users/Administrator/workspace/xgboost-win64_release_1.4.0/src/learner.cc:1095: Starting in XGBoost 1.3.0, the default evaluation metric used with the objective 'binary:logistic' was changed from 'error' to 'logloss'. Explicitly set eval_metric if you'd like to restore the old behavior.\n"
     ]
    }
   ],
   "source": [
    "xgb = XGBClassifier()\n",
    "xgb_model = xgb.fit(X_train,y_train)"
   ]
  },
  {
   "cell_type": "code",
   "execution_count": 52,
   "metadata": {},
   "outputs": [
    {
     "name": "stdout",
     "output_type": "stream",
     "text": [
      "Recall: 0.035\n"
     ]
    }
   ],
   "source": [
    "print('Recall: %.3f' % recall_score(y_test,xgb_model.predict(X_test) ))"
   ]
  },
  {
   "cell_type": "code",
   "execution_count": 53,
   "metadata": {},
   "outputs": [
    {
     "name": "stdout",
     "output_type": "stream",
     "text": [
      "Recall: 0.067\n"
     ]
    }
   ],
   "source": [
    "print('Recall: %.3f' % recall_score(y_train,xgb_model.predict(X_train) ))"
   ]
  },
  {
   "cell_type": "code",
   "execution_count": 26,
   "metadata": {},
   "outputs": [
    {
     "data": {
      "text/plain": [
       "0.07720570917141646"
      ]
     },
     "execution_count": 26,
     "metadata": {},
     "output_type": "execute_result"
    }
   ],
   "source": [
    "f1_score(y_train,xgb_model.predict(X_train))"
   ]
  },
  {
   "cell_type": "code",
   "execution_count": 27,
   "metadata": {},
   "outputs": [
    {
     "data": {
      "text/plain": [
       "0.0344501230361537"
      ]
     },
     "execution_count": 27,
     "metadata": {},
     "output_type": "execute_result"
    }
   ],
   "source": [
    "f1_score(y_test,xgb_model.predict(X_test))"
   ]
  },
  {
   "cell_type": "code",
   "execution_count": 54,
   "metadata": {},
   "outputs": [
    {
     "name": "stdout",
     "output_type": "stream",
     "text": [
      "              precision    recall  f1-score   support\n",
      "\n",
      "           0       0.79      0.99      0.88     36477\n",
      "           1       0.48      0.03      0.07     10154\n",
      "\n",
      "    accuracy                           0.78     46631\n",
      "   macro avg       0.63      0.51      0.47     46631\n",
      "weighted avg       0.72      0.78      0.70     46631\n",
      "\n"
     ]
    }
   ],
   "source": [
    "print(classification_report(y_test,xgb_model.predict(X_test)))"
   ]
  },
  {
   "cell_type": "markdown",
   "metadata": {},
   "source": [
    "### ADA without RFE"
   ]
  },
  {
   "cell_type": "code",
   "execution_count": 55,
   "metadata": {},
   "outputs": [],
   "source": [
    "ada = AdaBoostClassifier()\n",
    "ada_model = ada.fit(X_train,y_train)"
   ]
  },
  {
   "cell_type": "code",
   "execution_count": 56,
   "metadata": {},
   "outputs": [
    {
     "name": "stdout",
     "output_type": "stream",
     "text": [
      "Recall: 0.014\n"
     ]
    }
   ],
   "source": [
    "print('Recall: %.3f' % recall_score(y_train,ada_model.predict(X_train) ))"
   ]
  },
  {
   "cell_type": "code",
   "execution_count": 57,
   "metadata": {},
   "outputs": [
    {
     "name": "stdout",
     "output_type": "stream",
     "text": [
      "Recall: 0.014\n"
     ]
    }
   ],
   "source": [
    "print('Recall: %.3f' % recall_score(y_test,ada_model.predict(X_test) ))"
   ]
  },
  {
   "cell_type": "code",
   "execution_count": 29,
   "metadata": {},
   "outputs": [
    {
     "data": {
      "text/plain": [
       "0.015089196621966951"
      ]
     },
     "execution_count": 29,
     "metadata": {},
     "output_type": "execute_result"
    }
   ],
   "source": [
    "f1_score(y_train,ada_model.predict(X_train))"
   ]
  },
  {
   "cell_type": "code",
   "execution_count": 30,
   "metadata": {},
   "outputs": [
    {
     "data": {
      "text/plain": [
       "0.018763903665731694"
      ]
     },
     "execution_count": 30,
     "metadata": {},
     "output_type": "execute_result"
    }
   ],
   "source": [
    "f1_score(y_test,ada_model.predict(X_test))"
   ]
  },
  {
   "cell_type": "markdown",
   "metadata": {},
   "source": [
    "### Stacking Classifier without RFE"
   ]
  },
  {
   "cell_type": "code",
   "execution_count": 58,
   "metadata": {},
   "outputs": [],
   "source": [
    "base=[('Decision Tree',DecisionTreeClassifier(min_samples_leaf=3,max_depth=25,random_state=20)),\n",
    "      ('Random Forest',RandomForestClassifier(random_state=20))]"
   ]
  },
  {
   "cell_type": "code",
   "execution_count": 60,
   "metadata": {
    "scrolled": true
   },
   "outputs": [],
   "source": [
    "stack=StackingClassifier(estimators=base,final_estimator=GradientBoostingClassifier(random_state=20))\n",
    "stack_model=stack.fit(X_train,y_train)"
   ]
  },
  {
   "cell_type": "code",
   "execution_count": 61,
   "metadata": {
    "scrolled": false
   },
   "outputs": [
    {
     "name": "stdout",
     "output_type": "stream",
     "text": [
      "              precision    recall  f1-score   support\n",
      "\n",
      "           0       0.78      1.00      0.88     36477\n",
      "           1       0.55      0.00      0.01     10154\n",
      "\n",
      "    accuracy                           0.78     46631\n",
      "   macro avg       0.66      0.50      0.44     46631\n",
      "weighted avg       0.73      0.78      0.69     46631\n",
      "\n"
     ]
    }
   ],
   "source": [
    "print(classification_report(y_test,stack_model.predict(X_test)))"
   ]
  },
  {
   "cell_type": "code",
   "execution_count": 62,
   "metadata": {},
   "outputs": [
    {
     "name": "stdout",
     "output_type": "stream",
     "text": [
      "              precision    recall  f1-score   support\n",
      "\n",
      "           0       0.88      1.00      0.94    146066\n",
      "           1       1.00      0.51      0.67     40457\n",
      "\n",
      "    accuracy                           0.89    186523\n",
      "   macro avg       0.94      0.75      0.81    186523\n",
      "weighted avg       0.91      0.89      0.88    186523\n",
      "\n"
     ]
    }
   ],
   "source": [
    "print(classification_report(y_train,stack_model.predict(X_train)))"
   ]
  },
  {
   "cell_type": "markdown",
   "metadata": {},
   "source": [
    "# Features selection using RFE"
   ]
  },
  {
   "cell_type": "code",
   "execution_count": 63,
   "metadata": {},
   "outputs": [],
   "source": [
    "dt = DecisionTreeClassifier(random_state = 10)"
   ]
  },
  {
   "cell_type": "code",
   "execution_count": 64,
   "metadata": {},
   "outputs": [
    {
     "data": {
      "text/plain": [
       "RFE(estimator=DecisionTreeClassifier(random_state=10), n_features_to_select=30)"
      ]
     },
     "execution_count": 64,
     "metadata": {},
     "output_type": "execute_result"
    }
   ],
   "source": [
    "rfe = RFE(dt , n_features_to_select = 30)\n",
    "rfe.fit(X_train , y_train)"
   ]
  },
  {
   "cell_type": "code",
   "execution_count": 65,
   "metadata": {},
   "outputs": [],
   "source": [
    "rank = pd.DataFrame(rfe.ranking_ , index = X_train.columns , columns = ['Ranking'])"
   ]
  },
  {
   "cell_type": "code",
   "execution_count": 67,
   "metadata": {},
   "outputs": [
    {
     "data": {
      "text/plain": [
       "Index(['DISBURSED_AMOUNT', 'ASSET_COST', 'LTV', 'PERFORM_CNS_SCORE',\n",
       "       'PRI_CURRENT_BALANCE', 'PRI_SANCTIONED_AMOUNT', 'PRI_DISBURSED_AMOUNT',\n",
       "       'SEC_DISBURSED_AMOUNT', 'PRIMARY_INSTAL_AMT', 'AVERAGE_ACCT_AGE',\n",
       "       'CREDIT_HISTORY_LENGTH', 'AGE', 'AADHAR_FLAG', 'PAN_FLAG',\n",
       "       'VOTERID_FLAG', 'PRI_NO_OF_ACCTS', 'PRI_ACTIVE_ACCTS',\n",
       "       'PRI_OVERDUE_ACCTS', 'SEC_NO_OF_ACCTS', 'NEW_ACCTS_IN_LAST_SIX_MONTHS',\n",
       "       'DELINQUENT_ACCTS_IN_LAST_SIX_MONTHS', 'NO_OF_INQUIRIES',\n",
       "       'PERFORM_CNS_SCORE_DESCRIPTION', 'EMPLOYMENT_TYPE', 'BRANCH_ID',\n",
       "       'SUPPLIER_ID', 'MANUFACTURER_ID', 'CURRENT_PINCODE_ID', 'STATE_ID',\n",
       "       'EMPLOYEE_CODE_ID'],\n",
       "      dtype='object')"
      ]
     },
     "execution_count": 67,
     "metadata": {},
     "output_type": "execute_result"
    }
   ],
   "source": [
    "selected_columns = rank[rank['Ranking']==1].index\n",
    "selected_columns"
   ]
  },
  {
   "cell_type": "code",
   "execution_count": 68,
   "metadata": {},
   "outputs": [],
   "source": [
    "# Features from RFE\n",
    "\n",
    "X = df[['DISBURSED_AMOUNT', 'ASSET_COST', 'LTV', 'PERFORM_CNS_SCORE',\n",
    "       'PRI_CURRENT_BALANCE', 'PRI_SANCTIONED_AMOUNT', 'PRI_DISBURSED_AMOUNT',\n",
    "       'SEC_DISBURSED_AMOUNT', 'PRIMARY_INSTAL_AMT', 'AVERAGE_ACCT_AGE',\n",
    "       'CREDIT_HISTORY_LENGTH', 'AGE', 'AADHAR_FLAG', 'PAN_FLAG',\n",
    "       'VOTERID_FLAG', 'PRI_NO_OF_ACCTS', 'PRI_ACTIVE_ACCTS',\n",
    "       'PRI_OVERDUE_ACCTS', 'SEC_NO_OF_ACCTS', 'NEW_ACCTS_IN_LAST_SIX_MONTHS',\n",
    "       'DELINQUENT_ACCTS_IN_LAST_SIX_MONTHS', 'NO_OF_INQUIRIES',\n",
    "       'PERFORM_CNS_SCORE_DESCRIPTION', 'EMPLOYMENT_TYPE', 'BRANCH_ID',\n",
    "       'SUPPLIER_ID', 'MANUFACTURER_ID', 'CURRENT_PINCODE_ID', 'STATE_ID',\n",
    "       'EMPLOYEE_CODE_ID']]\n",
    "y = df['LOAN_DEFAULT']"
   ]
  },
  {
   "cell_type": "code",
   "execution_count": 69,
   "metadata": {},
   "outputs": [],
   "source": [
    "X_train, X_test, y_train, y_test = train_test_split( X, y, test_size=0.2, random_state=42)"
   ]
  },
  {
   "cell_type": "markdown",
   "metadata": {},
   "source": [
    "### LR with RFE"
   ]
  },
  {
   "cell_type": "code",
   "execution_count": 70,
   "metadata": {},
   "outputs": [],
   "source": [
    "lr = LogisticRegression()\n",
    "\n",
    "lr_model = lr.fit(X_train,y_train)"
   ]
  },
  {
   "cell_type": "code",
   "execution_count": 71,
   "metadata": {},
   "outputs": [
    {
     "name": "stdout",
     "output_type": "stream",
     "text": [
      "Recall: 0.001\n"
     ]
    }
   ],
   "source": [
    "print('Recall: %.3f' % recall_score(y_test,lr_model.predict(X_test) ))"
   ]
  },
  {
   "cell_type": "code",
   "execution_count": 72,
   "metadata": {},
   "outputs": [
    {
     "name": "stdout",
     "output_type": "stream",
     "text": [
      "Recall: 0.002\n"
     ]
    }
   ],
   "source": [
    "print('Recall: %.3f' % recall_score(y_train,lr_model.predict(X_train) ))"
   ]
  },
  {
   "cell_type": "code",
   "execution_count": 54,
   "metadata": {},
   "outputs": [
    {
     "data": {
      "text/plain": [
       "0.0003950032094010764"
      ]
     },
     "execution_count": 54,
     "metadata": {},
     "output_type": "execute_result"
    }
   ],
   "source": [
    "f1_score(y_train,lr_model.predict(X_train))"
   ]
  },
  {
   "cell_type": "code",
   "execution_count": 55,
   "metadata": {},
   "outputs": [
    {
     "data": {
      "text/plain": [
       "0.00039315903282877927"
      ]
     },
     "execution_count": 55,
     "metadata": {},
     "output_type": "execute_result"
    }
   ],
   "source": [
    "f1_score(y_test,lr_model.predict(X_test))"
   ]
  },
  {
   "cell_type": "markdown",
   "metadata": {},
   "source": [
    "### RF with RFE"
   ]
  },
  {
   "cell_type": "code",
   "execution_count": 73,
   "metadata": {},
   "outputs": [],
   "source": [
    "rf = RandomForestClassifier(n_estimators=80,random_state = 34,max_depth = 12,class_weight='balanced_subsample')\n",
    "model2 = rf.fit(X_train,y_train)"
   ]
  },
  {
   "cell_type": "code",
   "execution_count": 74,
   "metadata": {},
   "outputs": [
    {
     "name": "stdout",
     "output_type": "stream",
     "text": [
      "Recall: 0.580\n"
     ]
    }
   ],
   "source": [
    "print('Recall: %.3f' % recall_score(y_test,model2.predict(X_test) ))"
   ]
  },
  {
   "cell_type": "code",
   "execution_count": 76,
   "metadata": {},
   "outputs": [
    {
     "name": "stdout",
     "output_type": "stream",
     "text": [
      "Recall: 0.728\n"
     ]
    }
   ],
   "source": [
    "print('Recall: %.3f' % recall_score(y_train,model2.predict(X_train) ))"
   ]
  },
  {
   "cell_type": "code",
   "execution_count": 46,
   "metadata": {},
   "outputs": [
    {
     "data": {
      "text/plain": [
       "0.46237906984218813"
      ]
     },
     "execution_count": 46,
     "metadata": {},
     "output_type": "execute_result"
    }
   ],
   "source": [
    "f1_score(y_train,model2.predict(X_train))"
   ]
  },
  {
   "cell_type": "code",
   "execution_count": 47,
   "metadata": {
    "scrolled": false
   },
   "outputs": [
    {
     "data": {
      "text/plain": [
       "0.38961632653061223"
      ]
     },
     "execution_count": 47,
     "metadata": {},
     "output_type": "execute_result"
    }
   ],
   "source": [
    "f1_score(y_test,model2.predict(X_test))"
   ]
  },
  {
   "cell_type": "markdown",
   "metadata": {},
   "source": [
    "### DT with RFE"
   ]
  },
  {
   "cell_type": "code",
   "execution_count": 77,
   "metadata": {},
   "outputs": [],
   "source": [
    "from sklearn.tree import DecisionTreeClassifier\n",
    "\n",
    "dt = DecisionTreeClassifier(random_state=34)\n",
    "model_dt = dt.fit(X_train,y_train)"
   ]
  },
  {
   "cell_type": "code",
   "execution_count": 78,
   "metadata": {},
   "outputs": [
    {
     "name": "stdout",
     "output_type": "stream",
     "text": [
      "Recall: 0.288\n"
     ]
    }
   ],
   "source": [
    "print('Recall: %.3f' % recall_score(y_test,model_dt.predict(X_test) ))"
   ]
  },
  {
   "cell_type": "code",
   "execution_count": 79,
   "metadata": {},
   "outputs": [
    {
     "name": "stdout",
     "output_type": "stream",
     "text": [
      "Recall: 1.000\n"
     ]
    }
   ],
   "source": [
    "print('Recall: %.3f' % recall_score(y_train,model_dt.predict(X_train) ))"
   ]
  },
  {
   "cell_type": "code",
   "execution_count": 60,
   "metadata": {},
   "outputs": [
    {
     "data": {
      "text/plain": [
       "0.9984901737537746"
      ]
     },
     "execution_count": 60,
     "metadata": {},
     "output_type": "execute_result"
    }
   ],
   "source": [
    "f1_score(y_train,model_dt.predict(X_train))"
   ]
  },
  {
   "cell_type": "code",
   "execution_count": 61,
   "metadata": {},
   "outputs": [
    {
     "data": {
      "text/plain": [
       "0.2532921321606846"
      ]
     },
     "execution_count": 61,
     "metadata": {},
     "output_type": "execute_result"
    }
   ],
   "source": [
    "f1_score(y_test,model_dt.predict(X_test))"
   ]
  },
  {
   "cell_type": "markdown",
   "metadata": {},
   "source": [
    "### XGB with RFE"
   ]
  },
  {
   "cell_type": "code",
   "execution_count": 80,
   "metadata": {},
   "outputs": [
    {
     "name": "stdout",
     "output_type": "stream",
     "text": [
      "[17:54:19] WARNING: C:/Users/Administrator/workspace/xgboost-win64_release_1.4.0/src/learner.cc:1095: Starting in XGBoost 1.3.0, the default evaluation metric used with the objective 'binary:logistic' was changed from 'error' to 'logloss'. Explicitly set eval_metric if you'd like to restore the old behavior.\n"
     ]
    }
   ],
   "source": [
    "xgb = XGBClassifier()\n",
    "xgb_model = xgb.fit(X_train,y_train)"
   ]
  },
  {
   "cell_type": "code",
   "execution_count": 81,
   "metadata": {},
   "outputs": [
    {
     "name": "stdout",
     "output_type": "stream",
     "text": [
      "Recall: 0.037\n"
     ]
    }
   ],
   "source": [
    "print('Recall: %.3f' % recall_score(y_test,xgb_model.predict(X_test) ))"
   ]
  },
  {
   "cell_type": "code",
   "execution_count": 82,
   "metadata": {},
   "outputs": [
    {
     "name": "stdout",
     "output_type": "stream",
     "text": [
      "Recall: 0.070\n"
     ]
    }
   ],
   "source": [
    "print('Recall: %.3f' % recall_score(y_train,xgb_model.predict(X_train) ))"
   ]
  },
  {
   "cell_type": "code",
   "execution_count": 63,
   "metadata": {},
   "outputs": [
    {
     "data": {
      "text/plain": [
       "0.0824945449426339"
      ]
     },
     "execution_count": 63,
     "metadata": {},
     "output_type": "execute_result"
    }
   ],
   "source": [
    "f1_score(y_train,xgb_model.predict(X_train))"
   ]
  },
  {
   "cell_type": "code",
   "execution_count": 64,
   "metadata": {},
   "outputs": [
    {
     "data": {
      "text/plain": [
       "0.03917116094237866"
      ]
     },
     "execution_count": 64,
     "metadata": {},
     "output_type": "execute_result"
    }
   ],
   "source": [
    "f1_score(y_test,xgb_model.predict(X_test))"
   ]
  },
  {
   "cell_type": "code",
   "execution_count": 83,
   "metadata": {},
   "outputs": [
    {
     "name": "stdout",
     "output_type": "stream",
     "text": [
      "              precision    recall  f1-score   support\n",
      "\n",
      "           0       0.79      0.99      0.88     36477\n",
      "           1       0.49      0.04      0.07     10154\n",
      "\n",
      "    accuracy                           0.78     46631\n",
      "   macro avg       0.64      0.51      0.47     46631\n",
      "weighted avg       0.72      0.78      0.70     46631\n",
      "\n"
     ]
    }
   ],
   "source": [
    "print(classification_report(y_test,xgb_model.predict(X_test)))"
   ]
  },
  {
   "cell_type": "markdown",
   "metadata": {},
   "source": [
    "### GB with RFE "
   ]
  },
  {
   "cell_type": "code",
   "execution_count": 84,
   "metadata": {},
   "outputs": [],
   "source": [
    "gb = GradientBoostingClassifier()\n",
    "gb_model = gb.fit(X_train,y_train)"
   ]
  },
  {
   "cell_type": "code",
   "execution_count": 85,
   "metadata": {},
   "outputs": [
    {
     "name": "stdout",
     "output_type": "stream",
     "text": [
      "Recall: 0.001\n"
     ]
    }
   ],
   "source": [
    "print('Recall: %.3f' % recall_score(y_test,lr_model.predict(X_test) ))"
   ]
  },
  {
   "cell_type": "code",
   "execution_count": 87,
   "metadata": {},
   "outputs": [
    {
     "name": "stdout",
     "output_type": "stream",
     "text": [
      "Recall: 0.002\n"
     ]
    }
   ],
   "source": [
    "print('Recall: %.3f' % recall_score(y_train,lr_model.predict(X_train) ))"
   ]
  },
  {
   "cell_type": "code",
   "execution_count": 67,
   "metadata": {},
   "outputs": [
    {
     "data": {
      "text/plain": [
       "0.008253905866168813"
      ]
     },
     "execution_count": 67,
     "metadata": {},
     "output_type": "execute_result"
    }
   ],
   "source": [
    "f1_score(y_train,gb_model.predict(X_train))"
   ]
  },
  {
   "cell_type": "code",
   "execution_count": 68,
   "metadata": {},
   "outputs": [
    {
     "data": {
      "text/plain": [
       "0.008019559902200489"
      ]
     },
     "execution_count": 68,
     "metadata": {},
     "output_type": "execute_result"
    }
   ],
   "source": [
    "f1_score(y_test,gb_model.predict(X_test))"
   ]
  },
  {
   "cell_type": "code",
   "execution_count": 88,
   "metadata": {
    "scrolled": true
   },
   "outputs": [
    {
     "name": "stdout",
     "output_type": "stream",
     "text": [
      "              precision    recall  f1-score   support\n",
      "\n",
      "           0       0.78      1.00      0.88     36477\n",
      "           1       0.61      0.01      0.01     10154\n",
      "\n",
      "    accuracy                           0.78     46631\n",
      "   macro avg       0.70      0.50      0.45     46631\n",
      "weighted avg       0.75      0.78      0.69     46631\n",
      "\n"
     ]
    }
   ],
   "source": [
    "print(classification_report(y_test,gb_model.predict(X_test)))"
   ]
  },
  {
   "cell_type": "markdown",
   "metadata": {},
   "source": [
    "### ADA with RFE"
   ]
  },
  {
   "cell_type": "code",
   "execution_count": 89,
   "metadata": {},
   "outputs": [],
   "source": [
    "ada = AdaBoostClassifier()\n",
    "ada_model = ada.fit(X_train,y_train)"
   ]
  },
  {
   "cell_type": "code",
   "execution_count": 90,
   "metadata": {},
   "outputs": [
    {
     "name": "stdout",
     "output_type": "stream",
     "text": [
      "Recall: 0.014\n"
     ]
    }
   ],
   "source": [
    "print('Recall: %.3f' % recall_score(y_test,ada_model.predict(X_test) ))"
   ]
  },
  {
   "cell_type": "code",
   "execution_count": 91,
   "metadata": {},
   "outputs": [
    {
     "name": "stdout",
     "output_type": "stream",
     "text": [
      "Recall: 0.014\n"
     ]
    }
   ],
   "source": [
    "print('Recall: %.3f' % recall_score(y_train,ada_model.predict(X_train) ))"
   ]
  },
  {
   "cell_type": "code",
   "execution_count": 71,
   "metadata": {},
   "outputs": [
    {
     "data": {
      "text/plain": [
       "0.014992211838006232"
      ]
     },
     "execution_count": 71,
     "metadata": {},
     "output_type": "execute_result"
    }
   ],
   "source": [
    "f1_score(y_train,ada_model.predict(X_train))"
   ]
  },
  {
   "cell_type": "code",
   "execution_count": 72,
   "metadata": {},
   "outputs": [
    {
     "data": {
      "text/plain": [
       "0.018957345971563986"
      ]
     },
     "execution_count": 72,
     "metadata": {},
     "output_type": "execute_result"
    }
   ],
   "source": [
    "f1_score(y_test,ada_model.predict(X_test))"
   ]
  },
  {
   "cell_type": "markdown",
   "metadata": {},
   "source": [
    "### Stacking Classifier with RFE"
   ]
  },
  {
   "cell_type": "code",
   "execution_count": 92,
   "metadata": {},
   "outputs": [],
   "source": [
    "base=[('Decision Tree',DecisionTreeClassifier(min_samples_leaf=3,max_depth=25,random_state=20)),\n",
    "      ('Random Forest',RandomForestClassifier(random_state=20))]"
   ]
  },
  {
   "cell_type": "code",
   "execution_count": 93,
   "metadata": {},
   "outputs": [],
   "source": [
    "sc = StackingClassifier(estimators = base,final_estimator=GradientBoostingClassifier(random_state=20))\n",
    "sc_model = sc.fit(X_train,y_train)"
   ]
  },
  {
   "cell_type": "code",
   "execution_count": 94,
   "metadata": {},
   "outputs": [
    {
     "name": "stdout",
     "output_type": "stream",
     "text": [
      "Recall: 0.002\n"
     ]
    }
   ],
   "source": [
    "print('Recall: %.3f' % recall_score(y_test,sc_model.predict(X_test) ))"
   ]
  },
  {
   "cell_type": "code",
   "execution_count": 95,
   "metadata": {},
   "outputs": [
    {
     "name": "stdout",
     "output_type": "stream",
     "text": [
      "Recall: 0.202\n"
     ]
    }
   ],
   "source": [
    "print('Recall: %.3f' % recall_score(y_train,sc_model.predict(X_train) ))"
   ]
  },
  {
   "cell_type": "code",
   "execution_count": 75,
   "metadata": {},
   "outputs": [
    {
     "data": {
      "text/plain": [
       "0.10260979670316786"
      ]
     },
     "execution_count": 75,
     "metadata": {},
     "output_type": "execute_result"
    }
   ],
   "source": [
    "f1_score(y_train,sc_model.predict(X_train))"
   ]
  },
  {
   "cell_type": "code",
   "execution_count": 76,
   "metadata": {},
   "outputs": [
    {
     "data": {
      "text/plain": [
       "0.001573409381453437"
      ]
     },
     "execution_count": 76,
     "metadata": {},
     "output_type": "execute_result"
    }
   ],
   "source": [
    "f1_score(y_test,sc_model.predict(X_test))"
   ]
  },
  {
   "cell_type": "code",
   "execution_count": null,
   "metadata": {},
   "outputs": [],
   "source": []
  }
 ],
 "metadata": {
  "kernelspec": {
   "display_name": "Python 3",
   "language": "python",
   "name": "python3"
  },
  "language_info": {
   "codemirror_mode": {
    "name": "ipython",
    "version": 3
   },
   "file_extension": ".py",
   "mimetype": "text/x-python",
   "name": "python",
   "nbconvert_exporter": "python",
   "pygments_lexer": "ipython3",
   "version": "3.8.5"
  }
 },
 "nbformat": 4,
 "nbformat_minor": 4
}
